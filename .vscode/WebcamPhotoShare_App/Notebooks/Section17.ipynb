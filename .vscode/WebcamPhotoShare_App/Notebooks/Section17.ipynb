{
 "cells": [
  {
   "cell_type": "markdown",
   "metadata": {},
   "source": [
    "    77. The Four Main Objects of Kivy\n",
    "\n",
    "__App, ScreenManager, Screen, Widget__\n",
    "(The Widget object also contains objects such as Button, TextInput, Image, etc.)\n",
    "\n",
    "The \"App\" class already exists in the Kivy library, so we only have to import it into our file to use. From there, we can create a child class that inherits the attributes and methods from the App class."
   ]
  },
  {
   "cell_type": "code",
   "execution_count": null,
   "metadata": {},
   "outputs": [],
   "source": [
    "from kivy.app import App\n",
    "\n",
    "class MainApp(App):\n",
    "\n",
    "    # We are overriding the \"build\" class in the kivy.app by writing our on \"build\" class with only a self method.\n",
    "    def build(self):\n",
    "        return"
   ]
  },
  {
   "cell_type": "markdown",
   "metadata": {},
   "source": [
    "Next we import and inherit the ScreenManager object from Kivy."
   ]
  },
  {
   "cell_type": "code",
   "execution_count": null,
   "metadata": {},
   "outputs": [],
   "source": [
    "from kivy.app import App\n",
    "from kivy.uix.screenmanager import ScreenManager\n",
    "\n",
    "class RootWidget(ScreenManager):\n",
    "    pass\n",
    "\n",
    "class MainApp(App):\n",
    "\n",
    "    # We are overriding the \"build\" class in the kivy.app by writing our on \"build\" method with only a self parameter.\n",
    "    def build(self):\n",
    "        return RootWidget() # We are intializing the RootWidget() class by returning it as an object instance."
   ]
  },
  {
   "cell_type": "markdown",
   "metadata": {},
   "source": [
    "Here were are creating a class for the main screen in our app. We will need a class for each screen."
   ]
  },
  {
   "cell_type": "code",
   "execution_count": null,
   "metadata": {},
   "outputs": [],
   "source": [
    "from kivy.app import App\n",
    "from kivy.uix.screenmanager import ScreenManager, Screen\n",
    "\n",
    "# Because we are only utilizing one screen at this point in our app, we only require one screen class.\n",
    "class FirstScreen(Screen):\n",
    "\n",
    "    # When the user uses the search bar to search for an image, we need a method that will fulfill the request.\n",
    "    def search_image(self):\n",
    "        pass\n",
    "\n",
    "class RootWidget(ScreenManager):\n",
    "    pass\n",
    "\n",
    "class MainApp(App):\n",
    "\n",
    "    def build(self):\n",
    "        return RootWidget()"
   ]
  },
  {
   "cell_type": "markdown",
   "metadata": {},
   "source": [
    "If we run this code, nothing will happen. This is because we need have not initialized the MainApp class through some method. Below we are inserting code to coax the code into running the app:"
   ]
  },
  {
   "cell_type": "code",
   "execution_count": null,
   "metadata": {},
   "outputs": [],
   "source": [
    "from kivy.app import App\n",
    "from kivy.uix.screenmanager import ScreenManager, Screen\n",
    "\n",
    "class FirstScreen(Screen):\n",
    "\n",
    "    def search_image(self):\n",
    "        pass\n",
    "\n",
    "class RootWidget(ScreenManager):\n",
    "    pass\n",
    "\n",
    "class MainApp(App):\n",
    "\n",
    "    def build(self):\n",
    "        return RootWidget()\n",
    "\n",
    "MainApp().run()"
   ]
  },
  {
   "cell_type": "markdown",
   "metadata": {},
   "source": [
    "    78. Building the Frontend\n",
    "\n",
    "The code we wrote in the previous section would be considered \"boilerplate\", meaning it is a basic framework that we will use for the webcam app going forward.\n",
    "\n",
    "We will create the frontend through a Kivy file. The syntax for Kivy feels a lot like basic CSS or HTML, which makes sense for coding the app frontend."
   ]
  },
  {
   "cell_type": "markdown",
   "metadata": {},
   "source": [
    "#:kivy !\n",
    "\n",
    "<FirstScreen>:\n",
    "    # Within the first screen object, we declare what widgets to show and in what way on the screen.\n",
    "    GridLayout: # Creates an invisible grid on the screen\n",
    "        cols: 1 # Because the main screen only shows the image, search bar, and search button, we only need to create one column.\n",
    "        Image: \n",
    "            source: # Defines filepath for image to display\n",
    "        TextInput: \n",
    "        Button: \n",
    "            text: 'Search Image'\n",
    "\n",
    "<RootWidget>:\n",
    "    FirstScreen:\n",
    "        id: first_screen\n",
    "        name: 'first_screen'"
   ]
  },
  {
   "cell_type": "markdown",
   "metadata": {},
   "source": [
    "We then need to add the frontend code into the MainApp file."
   ]
  },
  {
   "cell_type": "code",
   "execution_count": null,
   "metadata": {},
   "outputs": [],
   "source": [
    "from kivy.app import App\n",
    "from kivy.uix.screenmanager import ScreenManager, Screen\n",
    "from kivy.lang import Builder\n",
    "\n",
    "# Because the frontend file is in the same directory as our MainApp file, we only need to input the name of the file.\n",
    "Builder.load_file('frontend.kv')\n",
    "\n",
    "# Because we are only utilizing one screen at this point in our app, we only require one screen class.\n",
    "class FirstScreen(Screen):\n",
    "\n",
    "    # When the user uses the search bar to search for an image, we need a method that will fulfill the request.\n",
    "    def search_image(self):\n",
    "        pass\n",
    "\n",
    "class RootWidget(ScreenManager):\n",
    "    pass\n",
    "\n",
    "class MainApp(App):\n",
    "\n",
    "    def build(self):\n",
    "        return RootWidget()\n",
    "\n",
    "MainApp().run()"
   ]
  },
  {
   "cell_type": "markdown",
   "metadata": {},
   "source": [
    "This \"load_file\" method doesn't seem to work for me, so I went with the \"load_string\" method instead to run the Kivy file manually. However, the app still won't load the image for me for some reason. I will try to fix this in the next lecture."
   ]
  },
  {
   "cell_type": "code",
   "execution_count": null,
   "metadata": {},
   "outputs": [],
   "source": [
    "Builder.load_string(\"\"\"\n",
    "<FirstScreen>:\n",
    "    GridLayout:\n",
    "        cols: 1\n",
    "        Image:\n",
    "            source: 'MiscFile/images/SunnyImage.jpeg'\n",
    "        TextInput:\n",
    "        Button:\n",
    "            text: 'Search Image'\n",
    "\n",
    "<RootWidget>:\n",
    "    FirstScreen:\n",
    "        id: first_screen\n",
    "        name: 'first_screen'\n",
    "\"\"\")"
   ]
  },
  {
   "cell_type": "markdown",
   "metadata": {},
   "source": [
    "    79. Changing the Size of the Widgets\n",
    "\n",
    "We will change the size of the widgets directly in the Kivy frontend code using size hints."
   ]
  },
  {
   "cell_type": "code",
   "execution_count": null,
   "metadata": {},
   "outputs": [],
   "source": [
    "Builder.load_string(\"\"\"\n",
    "<FirstScreen>:\n",
    "    GridLayout:\n",
    "        cols: 1\n",
    "        padding: 10 # Adds gap between widgets and borders of screen\n",
    "        spacing: 10 # Add gap between widgets themselves\n",
    "        Image:\n",
    "            source: 'MiscFile/images/SunnyImage.jpeg'\n",
    "            size_hint_y: 0.8\n",
    "        TextInput:\n",
    "            size_hint_y: 0.1\n",
    "        Button:\n",
    "            text: 'Search Image'\n",
    "            size_hint_y: 0.1\n",
    "\n",
    "<RootWidget>:\n",
    "    FirstScreen:\n",
    "        id: first_screen\n",
    "        name: 'first_screen'\n",
    "\"\"\")"
   ]
  },
  {
   "cell_type": "markdown",
   "metadata": {},
   "source": [
    "    80. Setting an Image Dynamically\n",
    "\n",
    "Right now our search bar is not connected to anything, it is just a derelict button. If we want to connect it to something, we need to declare it in the Kivy file."
   ]
  },
  {
   "cell_type": "code",
   "execution_count": null,
   "metadata": {},
   "outputs": [],
   "source": [
    "Builder.load_string(\"\"\"\n",
    "<FirstScreen>:\n",
    "    GridLayout:\n",
    "        cols: 1\n",
    "        padding: 10 # Adds gap between widgets and borders of screen\n",
    "        spacing: 10 # Add gap between widgets themselves\n",
    "        Image:\n",
    "            source: 'MiscFile/images/SunnyImage.jpeg'\n",
    "            size_hint_y: 0.8\n",
    "        TextInput:\n",
    "            size_hint_y: 0.1\n",
    "        Button:\n",
    "            text: 'Search Image'\n",
    "            size_hint_y: 0.1\n",
    "            on_press: root.search_image() # This statement will pass 'root' through the \"search_image\" method in FirstScreen class.\n",
    "            # 'root' is a special kivy variable that points to a background instance of the class screen being worked on (FirstScreen)\n",
    "\n",
    "<RootWidget>:\n",
    "    FirstScreen:\n",
    "        id: first_screen\n",
    "        name: 'first_screen'\n",
    "\"\"\")"
   ]
  },
  {
   "cell_type": "markdown",
   "metadata": {},
   "source": [
    "Next week need to update the code in our FirstScreen class to recognize a source file for the app:"
   ]
  },
  {
   "cell_type": "code",
   "execution_count": null,
   "metadata": {},
   "outputs": [],
   "source": [
    "class FirstScreen(Screen):\n",
    "\n",
    "    def search_image(self):\n",
    "        self.manager.current_screen.ids.img.source = '/Users/mattgola/Documents/GitHub/PythonCourse/.vscode/WebcamPhotoShare_App/MiscFiles/images/SunnyImage.jpeg'"
   ]
  },
  {
   "cell_type": "markdown",
   "metadata": {},
   "source": [
    "Because we are inheriting the \"screen\" class from the Kivy library in our \"FirstScreen\" class, we can recall the 'manager' attribute without calling it in the method parameters. 'current_screen' and 'ids' are also in the \"screen\" class.\n",
    "\n",
    "This statement up to 'ids' can be used throughout the app backend to recall other objects ids in the Kivy code."
   ]
  },
  {
   "cell_type": "markdown",
   "metadata": {},
   "source": [
    "    81. Getting an Image from the Web Given a Search Query\n",
    "\n",
    "We're going to use the 'wikipedia' library python package. Ardit runs through the package in the terminal, showing how you can search through wikipedia pages and view their properties."
   ]
  },
  {
   "cell_type": "code",
   "execution_count": null,
   "metadata": {},
   "outputs": [],
   "source": [
    "# in Terminal\n",
    "import wikipedia\n",
    "\n",
    "page = wikipedia.page(\"beach\", auto_suggest=False)\n",
    "dir(page)\n",
    "page.summary\n",
    "page.images\n",
    "len(page.images) # length of images screen for \"page\" variable\n",
    "\n",
    "page.images[0]\n",
    "link = page.images[0]"
   ]
  },
  {
   "cell_type": "markdown",
   "metadata": {},
   "source": [
    "    82. Downloading an Image from a URL\n",
    "\n",
    "We're going to be using the 'requests' package (already downloaded)."
   ]
  },
  {
   "cell_type": "code",
   "execution_count": 18,
   "metadata": {},
   "outputs": [
    {
     "data": {
      "text/plain": [
       "requests.models.Response"
      ]
     },
     "execution_count": 18,
     "metadata": {},
     "output_type": "execute_result"
    }
   ],
   "source": [
    "import wikipedia\n",
    "import requests\n",
    "\n",
    "page = wikipedia.page(\"beach\", auto_suggest=False)\n",
    "link = page.images[0]\n",
    "req = requests.get(link)\n",
    "type(req)"
   ]
  },
  {
   "cell_type": "markdown",
   "metadata": {},
   "source": [
    "Just like the '.page' function returns \".WikipeiaPage\", the '.get' function returns the \".Response\" object. This \".Response\" object has a \".content\" attribute that we can now run."
   ]
  },
  {
   "cell_type": "code",
   "execution_count": 19,
   "metadata": {},
   "outputs": [
    {
     "data": {
      "text/plain": [
       "bytes"
      ]
     },
     "execution_count": 19,
     "metadata": {},
     "output_type": "execute_result"
    }
   ],
   "source": [
    "req.content\n",
    "type(req.content)"
   ]
  },
  {
   "cell_type": "markdown",
   "metadata": {},
   "source": [
    "\"bytes\" are the basic language that all files are written in before they are interpreted into another language through an interpreter. The reason we are seeing the req.content file in bytes is because the terminal cannot interpret the text file in any other way.\n",
    "\n",
    "Because of issues getting the wikipedia image to load using the \"with\" statement Ardit uses in the lecture, I'm forced to use another user's suggestion with a different image request function. This method works."
   ]
  },
  {
   "cell_type": "code",
   "execution_count": 20,
   "metadata": {},
   "outputs": [
    {
     "data": {
      "text/plain": [
       "('the_beach.png', <http.client.HTTPMessage at 0x10b9fb990>)"
      ]
     },
     "execution_count": 20,
     "metadata": {},
     "output_type": "execute_result"
    }
   ],
   "source": [
    "import urllib.request\n",
    "\n",
    "# with open(\"the_beach.png\", 'wb') as file:\n",
    "    # file.write(req.content)\n",
    "\n",
    "urllib.request.urlretrieve(link, \"the_beach.png\")"
   ]
  },
  {
   "cell_type": "markdown",
   "metadata": {},
   "source": [
    "    83. Implementing the Search Image Functionality\n",
    "\n",
    "Now we need to utilize this terminal code we've written to make our search image method functional for the MainApp."
   ]
  },
  {
   "cell_type": "code",
   "execution_count": null,
   "metadata": {},
   "outputs": [],
   "source": [
    "class FirstScreen(Screen):\n",
    "\n",
    "    # When the user uses the search bar to search for an image, we need a method that will fulfill the request.\n",
    "    def search_image(self):\n",
    "        # Allows for users to query from the search bar.\n",
    "        query = self.manager.current_screen.ids.user_query.text\n",
    "        # Creates an instance for the user query to run through wikipedia URLS (essentially a wikipedia search).\n",
    "        page = wikipedia.page(query)\n",
    "        # Declaring [0] forces the function to run on the first URL in the search.\n",
    "        image_link = page.images[0]\n",
    "        # Download the queried image.\n",
    "        req = requests.get(image_link)\n",
    "        # Create file from the download.\n",
    "        urllib.request.urlretrieve(image_link, 'query_image.jpg')\n",
    "        # Set the image into the Image widget\n",
    "        self.manager.current_screen.ids.img.source = 'query_image.jpg'"
   ]
  }
 ],
 "metadata": {
  "kernelspec": {
   "display_name": "Python 3.11.6 64-bit",
   "language": "python",
   "name": "python3"
  },
  "language_info": {
   "codemirror_mode": {
    "name": "ipython",
    "version": 3
   },
   "file_extension": ".py",
   "mimetype": "text/x-python",
   "name": "python",
   "nbconvert_exporter": "python",
   "pygments_lexer": "ipython3",
   "version": "3.11.6"
  },
  "orig_nbformat": 4,
  "vscode": {
   "interpreter": {
    "hash": "aee8b7b246df8f9039afb4144a1f6fd8d2ca17a180786b69acc140d282b71a49"
   }
  }
 },
 "nbformat": 4,
 "nbformat_minor": 2
}
