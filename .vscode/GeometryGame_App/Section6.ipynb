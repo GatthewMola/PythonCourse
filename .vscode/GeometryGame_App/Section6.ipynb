{
 "cells": [
  {
   "cell_type": "markdown",
   "metadata": {},
   "source": [
    "    Section 6: App 1: Geometry Game - Inheritance"
   ]
  },
  {
   "cell_type": "markdown",
   "metadata": {},
   "source": [
    "    32. Problem Statement\n",
    "\n",
    "We would like to give the user graphical context of the answer our game is giving them once they guess their coordinates. i.e. We want to show them where on a canvas their guess coordinate is in relation to the generated rectangle.\n",
    "\n",
    "To create this graphical canvas, we'll use the \"turtle\" library of graphical tools inherent to Python.\n",
    "\n",
    "Going forward, I will write what notes I can into this notebook while writing the main bulk of code into the \"GeometryGame.py\" file in order to compile the game."
   ]
  },
  {
   "cell_type": "markdown",
   "metadata": {},
   "source": [
    "    33. Investigating the Code\n",
    "\n",
    "Now we're going to begin working with the 'turtle' library."
   ]
  },
  {
   "cell_type": "code",
   "execution_count": null,
   "metadata": {},
   "outputs": [],
   "source": [
    "import turtle\n",
    "\n",
    "myturtle = turtle.Turtle()\n",
    "\n",
    "myturtle.forward(100)"
   ]
  },
  {
   "cell_type": "markdown",
   "metadata": {},
   "source": [
    "We can use the method \".forward\" with the method \".Turtle\" because \".forward\" is a method created under the parent class for turtle. This concept is called inhertiance, we'll go over it soon."
   ]
  },
  {
   "cell_type": "markdown",
   "metadata": {},
   "source": [
    "    34. Inheriting from the Rectangle Class\n",
    "\n",
    "Now that we have learned how to create rudimentary shapes with the turtle program, we will use turtle to create the graphical interface for our game. The object in this situation is the Rectangle, and drawing it on the turtle canvas is the method.\n",
    "\n",
    "While this would make us believe the best practice would be to add a draw method to the Rectangle class, this may be shortsighted. Adding a new method to an existing class could have a ripple effect on the rest of the backend of the game. Instead, we are going to extend the Rectangle class by creating an inheritance."
   ]
  },
  {
   "cell_type": "code",
   "execution_count": null,
   "metadata": {},
   "outputs": [],
   "source": [
    "class Rectangle:\n",
    "\n",
    "    def __init__(self, lowleft, upright):\n",
    "        self.lowleft = lowleft\n",
    "        self.upright = upright\n",
    "    \n",
    "    def rectangle_area(self):\n",
    "        return (self.upright.x - self.lowleft.x) * \\\n",
    "            (self.upright.y - self.lowleft.y)\n",
    "\n",
    "class GuiRectangle(Rectangle):\n",
    "\n",
    "    def draw(self, canvas):\n",
    "        self.canvas\n",
    "\n",
    "gui_rectangle = GuiRectangle(Point(randint(0, 400), randint(0, 400)),\n",
    "    Point(randint(10, 400), randint(10, 400)))"
   ]
  },
  {
   "cell_type": "markdown",
   "metadata": {},
   "source": [
    "By adding the Rectangle class alongside the new class, the new class will inherit all methods and inits from the Rectangle class, along with whatever new methods are created within the new class.\n",
    "\n",
    "We are renaming the object instance \"rectangle\" that we originally created using the Rectangle class to \"gui_rectangle\" and are now using the GuiRectangle class to create it. Instead of creating a random rectangle in the ether, we will not be creating a random rectangle that can be displayed on the turtle canvas through the draw method in the GuiRectangle class."
   ]
  }
 ],
 "metadata": {
  "kernelspec": {
   "display_name": "Python 3.9.6 64-bit",
   "language": "python",
   "name": "python3"
  },
  "language_info": {
   "codemirror_mode": {
    "name": "ipython",
    "version": 3
   },
   "file_extension": ".py",
   "mimetype": "text/x-python",
   "name": "python",
   "nbconvert_exporter": "python",
   "pygments_lexer": "ipython3",
   "version": "3.9.6"
  },
  "orig_nbformat": 4,
  "vscode": {
   "interpreter": {
    "hash": "31f2aee4e71d21fbe5cf8b01ff0e069b9275f58929596ceb00d14d90e3e16cd6"
   }
  }
 },
 "nbformat": 4,
 "nbformat_minor": 2
}
