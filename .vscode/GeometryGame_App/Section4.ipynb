{
 "cells": [
  {
   "cell_type": "markdown",
   "metadata": {},
   "source": [
    "    21. Creating a Second Class for Our Program\n",
    "\n",
    "Here is the code we finished in Section 3:\n"
   ]
  },
  {
   "cell_type": "code",
   "execution_count": 37,
   "metadata": {},
   "outputs": [],
   "source": [
    "class Point:\n",
    "\n",
    "    def __init__(self, x, y):\n",
    "        self.x = x\n",
    "        self.y = y\n",
    "        \n",
    "    def falls_in_rectangle(self, lowleft, upright):\n",
    "        if lowleft[0] < self.x < upright[0] \\\n",
    "        and lowleft [1] < self.y < upright[1]:\n",
    "            return True\n",
    "        else:\n",
    "            return False"
   ]
  },
  {
   "cell_type": "code",
   "execution_count": 38,
   "metadata": {},
   "outputs": [
    {
     "data": {
      "text/plain": [
       "True"
      ]
     },
     "execution_count": 38,
     "metadata": {},
     "output_type": "execute_result"
    }
   ],
   "source": [
    "point1 = Point(6, 7) # This code represents the init method defining attributes for the executable method.\n",
    "point1.falls_in_rectangle((5, 6), (7, 9)) # This code represents the attributes (object instance) that is being \\\n",
    "                                          # executed by the \"falls_in_rectangle\" executable."
   ]
  },
  {
   "cell_type": "markdown",
   "metadata": {},
   "source": [
    "Now we will create a class which defines methods for our Rectangle:"
   ]
  },
  {
   "cell_type": "code",
   "execution_count": 39,
   "metadata": {},
   "outputs": [],
   "source": [
    "class Rectangle:\n",
    "\n",
    "    def __init__(self, lowleft, upright):\n",
    "        self.lowleft = lowleft\n",
    "        self.upright = upright"
   ]
  },
  {
   "cell_type": "code",
   "execution_count": 40,
   "metadata": {},
   "outputs": [],
   "source": [
    "pointx = Point(6, 7)"
   ]
  },
  {
   "cell_type": "code",
   "execution_count": 41,
   "metadata": {},
   "outputs": [],
   "source": [
    "rectanglex = Rectangle(Point(5, 6), Point(7,9))"
   ]
  },
  {
   "cell_type": "markdown",
   "metadata": {},
   "source": [
    "In __rectanglex__, we are defining two Points - two x and y coordinates - as the lower left and upper right points of our rectangle. We used an __init__ method in our Rectangle class because we want to define attributes - i.e. we want to define points for our rectangle through a Point object instance. These points can then be run through an executable method."
   ]
  },
  {
   "cell_type": "code",
   "execution_count": 42,
   "metadata": {},
   "outputs": [],
   "source": [
    "# pointx.falls_in_rectangle(rectanglex)"
   ]
  },
  {
   "cell_type": "markdown",
   "metadata": {},
   "source": [
    "We receive an error for this code (including as a comment after the fact) because we have only give a single attribute for this argument. The \"falls_in_rectangle\" method requires there be a lowleft and upright argument to run.\n",
    "\n",
    "If we want this executable to run according to our new Rectangle class, we need to adjust our executable method."
   ]
  },
  {
   "cell_type": "code",
   "execution_count": 43,
   "metadata": {},
   "outputs": [],
   "source": [
    "class Point:\n",
    "\n",
    "    def __init__(self, x, y):\n",
    "        self.x = x\n",
    "        self.y = y\n",
    "        \n",
    "    def falls_in_rectangle(self, rectangle):\n",
    "        if rectangle.lowleft[0] < self.x < rectangle.upright[0] \\\n",
    "        and rectangle.lowleft [1] < self.y < rectangle.upright[1]:\n",
    "            return True\n",
    "        else:\n",
    "            return False"
   ]
  },
  {
   "cell_type": "markdown",
   "metadata": {},
   "source": [
    "I will now run the attribute and executable statements again so that Jupyter will run them against the new class function."
   ]
  },
  {
   "cell_type": "code",
   "execution_count": 44,
   "metadata": {},
   "outputs": [],
   "source": [
    "pointx = Point(6, 7)"
   ]
  },
  {
   "cell_type": "code",
   "execution_count": 45,
   "metadata": {},
   "outputs": [],
   "source": [
    "rectanglex = Rectangle(Point(5, 6), Point(7,9))"
   ]
  },
  {
   "cell_type": "code",
   "execution_count": 46,
   "metadata": {},
   "outputs": [
    {
     "ename": "TypeError",
     "evalue": "'Point' object is not subscriptable",
     "output_type": "error",
     "traceback": [
      "\u001b[0;31m---------------------------------------------------------------------------\u001b[0m",
      "\u001b[0;31mTypeError\u001b[0m                                 Traceback (most recent call last)",
      "Cell \u001b[0;32mIn[46], line 1\u001b[0m\n\u001b[0;32m----> 1\u001b[0m pointx\u001b[39m.\u001b[39;49mfalls_in_rectangle(rectanglex)\n",
      "Cell \u001b[0;32mIn[43], line 8\u001b[0m, in \u001b[0;36mPoint.falls_in_rectangle\u001b[0;34m(self, rectangle)\u001b[0m\n\u001b[1;32m      7\u001b[0m \u001b[39mdef\u001b[39;00m \u001b[39mfalls_in_rectangle\u001b[39m(\u001b[39mself\u001b[39m, rectangle):\n\u001b[0;32m----> 8\u001b[0m     \u001b[39mif\u001b[39;00m rectangle\u001b[39m.\u001b[39;49mlowleft[\u001b[39m0\u001b[39;49m] \u001b[39m<\u001b[39m \u001b[39mself\u001b[39m\u001b[39m.\u001b[39mx \u001b[39m<\u001b[39m rectangle\u001b[39m.\u001b[39mupright[\u001b[39m0\u001b[39m] \\\n\u001b[1;32m      9\u001b[0m     \u001b[39mand\u001b[39;00m rectangle\u001b[39m.\u001b[39mlowleft [\u001b[39m1\u001b[39m] \u001b[39m<\u001b[39m \u001b[39mself\u001b[39m\u001b[39m.\u001b[39my \u001b[39m<\u001b[39m rectangle\u001b[39m.\u001b[39mupright[\u001b[39m1\u001b[39m]:\n\u001b[1;32m     10\u001b[0m         \u001b[39mreturn\u001b[39;00m \u001b[39mTrue\u001b[39;00m\n\u001b[1;32m     11\u001b[0m     \u001b[39melse\u001b[39;00m:\n",
      "\u001b[0;31mTypeError\u001b[0m: 'Point' object is not subscriptable"
     ]
    }
   ],
   "source": [
    "pointx.falls_in_rectangle(rectanglex)"
   ]
  },
  {
   "cell_type": "markdown",
   "metadata": {},
   "source": [
    "The reason we are getting this error is because \"rectangle.lowleft[0]\" is referring to the script \"Point(5, 6)\", which is not a tibble or list. \"Point(5, 6)\" is a class object which is not capable of indexing.\n",
    "\n",
    "We will need to adjust our Point class function another time in order to get around this error."
   ]
  },
  {
   "cell_type": "code",
   "execution_count": 47,
   "metadata": {},
   "outputs": [],
   "source": [
    "class Point:\n",
    "\n",
    "    def __init__(self, x, y):\n",
    "        self.x = x\n",
    "        self.y = y\n",
    "        \n",
    "    def falls_in_rectangle(self, rectangle):\n",
    "        if rectangle.lowleft.x < self.x < rectangle.upright.x \\\n",
    "        and rectangle.lowleft.y < self.y < rectangle.upright.y:\n",
    "            return True\n",
    "        else:\n",
    "            return False"
   ]
  },
  {
   "cell_type": "markdown",
   "metadata": {},
   "source": [
    "We are changing the \"[0]\" and \"[1]\" characters as they refer to characters in a list, which we are no longer referring to in our executable.\n",
    "\n",
    "We are changing the characters to \".x\" and \".y\" respectively to refer to the 'x' and 'y' attributes of our init method in the Point class."
   ]
  },
  {
   "cell_type": "code",
   "execution_count": 48,
   "metadata": {},
   "outputs": [],
   "source": [
    "pointx = Point(6, 7)"
   ]
  },
  {
   "cell_type": "code",
   "execution_count": 49,
   "metadata": {},
   "outputs": [],
   "source": [
    "rectanglex = Rectangle(Point(5, 6), Point(7,9))"
   ]
  },
  {
   "cell_type": "code",
   "execution_count": 50,
   "metadata": {},
   "outputs": [
    {
     "data": {
      "text/plain": [
       "True"
      ]
     },
     "execution_count": 50,
     "metadata": {},
     "output_type": "execute_result"
    }
   ],
   "source": [
    "pointx.falls_in_rectangle(rectanglex)"
   ]
  },
  {
   "cell_type": "markdown",
   "metadata": {},
   "source": [
    "        22. Wrapping Things Up"
   ]
  },
  {
   "cell_type": "code",
   "execution_count": 3,
   "metadata": {},
   "outputs": [],
   "source": [
    "class Point:\n",
    "\n",
    "    def __init__(self, x, y):\n",
    "        self.x = x\n",
    "        self.y = y\n",
    "    \n",
    "    def falls_in_rectangle(self, rectangle):\n",
    "        if rectangle.lowleft.x < self.x < rectangle.upright.x \\\n",
    "        and rectangle.lowleft.y < self.y < rectangle.upright.y:\n",
    "            return True\n",
    "        else:\n",
    "            return False\n",
    "\n",
    "class Rectangle:\n",
    "\n",
    "    def __init__(self, lowleft, upright):\n",
    "        self.lowleft = lowleft\n",
    "        self.upright = upright"
   ]
  },
  {
   "cell_type": "markdown",
   "metadata": {},
   "source": [
    "These classes and method define our \"backend\" for the Geometry Game. The user will not see this code put into action directly. We need to attach a \"frontend\" to the code - a user interface - so that the user can interact with the game.\n",
    "\n",
    "Before we create this interface, however, we still need to create a way for the game to generate random coordinates for a rectangle in our game."
   ]
  },
  {
   "cell_type": "code",
   "execution_count": 4,
   "metadata": {},
   "outputs": [
    {
     "data": {
      "text/plain": [
       "1"
      ]
     },
     "execution_count": 4,
     "metadata": {},
     "output_type": "execute_result"
    }
   ],
   "source": [
    "from random import randint\n",
    "\n",
    "randint(0, 9)"
   ]
  },
  {
   "cell_type": "markdown",
   "metadata": {},
   "source": [
    "\"randint\" is a generator that pulls a random integer from a set list of integers. Above, we have asked the generator to pull a random integer from a list of integers 0 to 9.\n",
    "\n",
    "We can attach our own attributes to this to define our rectangle:"
   ]
  },
  {
   "cell_type": "code",
   "execution_count": 5,
   "metadata": {},
   "outputs": [
    {
     "name": "stdout",
     "output_type": "stream",
     "text": [
      "Rectanlge Coordinates:  2 , 2 and 12 , 18\n"
     ]
    }
   ],
   "source": [
    "from random import randint\n",
    "\n",
    "rectangle = Rectangle(\n",
    "    Point(randint(0, 9), randint(0, 9)),\n",
    "    Point(randint(10, 19), randint(10, 19))\n",
    ")\n",
    "\n",
    "print(\"Rectanlge Coordinates: \",\n",
    "    rectangle.lowleft.x, \",\",\n",
    "    rectangle.lowleft.y, \"and\",\n",
    "    rectangle.upright.x, \",\",\n",
    "    rectangle.upright.y)\n",
    "\n",
    "user_point = Point(float(input(\"Guess X: \")),\n",
    "                float(input(\"Guess Y: \")))\n",
    "\n",
    "print(\"Your point was inside rectangle: \",\n",
    "user_point.falls_in_rectangle(rectangle))"
   ]
  },
  {
   "cell_type": "markdown",
   "metadata": {},
   "source": [
    "These \"Points\" define the 'x' and 'y' coordinates for the lower left and upper right corners of our rectangle. We have chosen the list integers specifically so that the upper right coordinate will never be less than the lower left coordinate, and vice verse.\n",
    "\n",
    "We are including a print statement as well to create an interface for the user. This string will give the user context for understanding the random integers that are produced. This interface is nowhere close to a GUI, it is just a simple text-based interface.\n",
    "\n",
    "We then create a Point object instance so that the user can enter a point into the game.\n",
    "\n",
    "Finally, we create a final print statement which runs our \"fall_in_rectangle\" executable determining if the point guessed by the user fell into the rectangle. The statement then runs a script letting the user know if they have won or not."
   ]
  },
  {
   "cell_type": "markdown",
   "metadata": {},
   "source": [
    "    23. Add a New Feature to the Program (Assignment)  "
   ]
  },
  {
   "cell_type": "markdown",
   "metadata": {},
   "source": [
    "We want to add a feature to the program that asks the user to guess the area of the rectangle."
   ]
  },
  {
   "cell_type": "code",
   "execution_count": 10,
   "metadata": {},
   "outputs": [],
   "source": [
    "class Point:\n",
    "\n",
    "    def __init__(self, x, y):\n",
    "        self.x = x\n",
    "        self.y = y\n",
    "    \n",
    "    def falls_in_rectangle(self, rectangle):\n",
    "        if rectangle.lowleft.x < self.x < rectangle.upright.x \\\n",
    "        and rectangle.lowleft.y < self.y < rectangle.upright.y:\n",
    "            return True\n",
    "        else:\n",
    "            return False\n",
    "\n",
    "class Rectangle:\n",
    "\n",
    "    def __init__(self, lowleft, upright):\n",
    "        self.lowleft = lowleft\n",
    "        self.upright = upright\n",
    "    \n",
    "    def rectangle_area(self):\n",
    "        return (self.upright.x - self.lowleft.x) * \\\n",
    "            (self.upright.y - self.lowleft.y)"
   ]
  },
  {
   "cell_type": "markdown",
   "metadata": {},
   "source": [
    "\"self\" is our only parameter because we have already defined attributes within our classes that will allow us to determine the area of a random rectangle. We do not need to create any more parameters.\n",
    "\n",
    "We are using the \"return\" keyword because we would like the output of the executable to be the result of some sort of equation in the class.\n",
    "\n",
    "We then need to update our user interface so that the user can interact with the new feature."
   ]
  },
  {
   "cell_type": "code",
   "execution_count": 11,
   "metadata": {},
   "outputs": [
    {
     "name": "stdout",
     "output_type": "stream",
     "text": [
      "Rectangle Coordinates:  1 , 4 and 17 , 10\n",
      "Your point was inside rectangle:  True\n",
      "Your area was off by:  0.0\n"
     ]
    }
   ],
   "source": [
    "from random import randint\n",
    "\n",
    "rectangle = Rectangle(\n",
    "    Point(randint(0, 9), randint(0, 9)),\n",
    "    Point(randint(10, 19), randint(10, 19))\n",
    ")\n",
    "\n",
    "print(\"Rectangle Coordinates: \",\n",
    "    rectangle.lowleft.x, \",\",\n",
    "    rectangle.lowleft.y, \"and\",\n",
    "    rectangle.upright.x, \",\",\n",
    "    rectangle.upright.y)\n",
    "\n",
    "user_point = Point(float(input(\"Guess X: \")),\n",
    "                float(input(\"Guess Y: \")))\n",
    "\n",
    "user_area = (float(input(\"Guess rectangle area: \")))\n",
    "\n",
    "print(\"Your point was inside rectangle: \",\n",
    "user_point.falls_in_rectangle(rectangle))\n",
    "\n",
    "print(\"Your area was off by: \", rectangle.rectangle_area() - user_area)"
   ]
  },
  {
   "cell_type": "markdown",
   "metadata": {},
   "source": [
    "    25. Code Improvement"
   ]
  },
  {
   "cell_type": "markdown",
   "metadata": {},
   "source": [
    "    We have a hidden error in our Rectangle class.\n",
    "Because the points in the game are randomly generated, not always will lowleft point be the lower-left corner and upright point be the upper-right corner. The coordinates for lowleft could be larger than the coordinates for upright and vice versa.\n",
    "We can easily fix this issue by renaming lowleft and upright\n",
    "to point1 and point2 in the Rectangle class."
   ]
  },
  {
   "cell_type": "code",
   "execution_count": null,
   "metadata": {},
   "outputs": [],
   "source": [
    "class Rectangle:\n",
    "\n",
    "    def __init__(self, point1, point2):\n",
    "        self.point1 = point1\n",
    "        self.point2 = point2\n",
    "    \n",
    "    def rectangle_area(self):\n",
    "        return (self.point2.x - self.point1.x) * \\\n",
    "            (self.point2.y - self.point1.y)"
   ]
  },
  {
   "cell_type": "markdown",
   "metadata": {},
   "source": [
    "This means that point1 could be to the right of point2 and vice-versa and the Rectangle class would still make sense.\n",
    "\n",
    "Below is the full code for the game so far:"
   ]
  },
  {
   "cell_type": "code",
   "execution_count": null,
   "metadata": {},
   "outputs": [],
   "source": [
    "class Point:\n",
    "\n",
    "    def __init__(self, x, y):\n",
    "        self.x = x\n",
    "        self.y = y\n",
    "    \n",
    "    def falls_in_rectangle(self, rectangle):\n",
    "        if rectangle.lowleft.x < self.x < rectangle.upright.x \\\n",
    "        and rectangle.lowleft.y < self.y < rectangle.upright.y:\n",
    "            return True\n",
    "        else:\n",
    "            return False\n",
    "\n",
    "class Rectangle:\n",
    "\n",
    "    def __init__(self, point1, point2):\n",
    "        self.point1 = point1\n",
    "        self.point2 = point2\n",
    "    \n",
    "    def rectangle_area(self):\n",
    "        return (self.point2.x - self.point1.x) * \\\n",
    "            (self.point2.y - self.point1.y)\n",
    "\n",
    "from random import randint\n",
    "\n",
    "rectangle = Rectangle(\n",
    "    Point(randint(0, 9), randint(0, 9)),\n",
    "    Point(randint(10, 19), randint(10, 19))\n",
    ")\n",
    "\n",
    "print(\"Rectangle Coordinates: \",\n",
    "    rectangle.lowleft.x, \",\",\n",
    "    rectangle.lowleft.y, \"and\",\n",
    "    rectangle.upright.x, \",\",\n",
    "    rectangle.upright.y)\n",
    "\n",
    "user_point = Point(float(input(\"Guess X: \")),\n",
    "                float(input(\"Guess Y: \")))\n",
    "\n",
    "user_area = (float(input(\"Guess rectangle area: \")))\n",
    "\n",
    "print(\"Your point was inside rectangle: \",\n",
    "user_point.falls_in_rectangle(rectangle))\n",
    "\n",
    "print(\"Your area was off by: \", rectangle.rectangle_area() - user_area)"
   ]
  }
 ],
 "metadata": {
  "kernelspec": {
   "display_name": "Python 3.9.6 64-bit",
   "language": "python",
   "name": "python3"
  },
  "language_info": {
   "codemirror_mode": {
    "name": "ipython",
    "version": 3
   },
   "file_extension": ".py",
   "mimetype": "text/x-python",
   "name": "python",
   "nbconvert_exporter": "python",
   "pygments_lexer": "ipython3",
   "version": "3.9.6"
  },
  "orig_nbformat": 4,
  "vscode": {
   "interpreter": {
    "hash": "31f2aee4e71d21fbe5cf8b01ff0e069b9275f58929596ceb00d14d90e3e16cd6"
   }
  }
 },
 "nbformat": 4,
 "nbformat_minor": 2
}
