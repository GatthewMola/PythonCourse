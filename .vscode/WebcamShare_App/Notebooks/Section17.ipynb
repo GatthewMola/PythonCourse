{
 "cells": [
  {
   "cell_type": "markdown",
   "metadata": {},
   "source": [
    "    87. Design the Frontend\n",
    "\n",
    "Ardit shows the process of him drawing the \"design-frontend.jpg\" file in our images folder.\n",
    "\n",
    "The app has two screens: the Camera Screen and the Image Screen."
   ]
  },
  {
   "cell_type": "markdown",
   "metadata": {},
   "source": [
    "__Camera Screen__\n",
    "\n",
    "The Camera Screen displays the webcam of the user. The webcam will activate when the user presses the \"Start\" button. The second \"Capture\" button will capture a frame of the active webcam and convert it to an image. At the same time, the button will open the second Image Screen and display the captured screen."
   ]
  },
  {
   "cell_type": "markdown",
   "metadata": {},
   "source": [
    "__Image Screen__\n",
    "\n",
    "The Image Screen displays the captured image in a large widget. Below it is a large button for \"Create Link\". Clicking this button will activate a widget with a link for the image. Below this initially invisible widget are two different buttons: \"Copy\" and \"Open\". The Copy button will copy the image link to the user's clipboard. The Open button will open the image link in the user's browser."
   ]
  },
  {
   "cell_type": "markdown",
   "metadata": {},
   "source": [
    "    88. Designing the Object Types\n",
    "\n",
    "Ardit simply shows the process of him creating the design.txt document."
   ]
  },
  {
   "cell_type": "markdown",
   "metadata": {},
   "source": [
    "    89. Creating the Empty Classes\n",
    "\n",
    "Just like we learned in the previous Webcam app, we're going to introduce some boiler plate Python/Kivy code to the MainApp file."
   ]
  },
  {
   "cell_type": "code",
   "execution_count": null,
   "metadata": {},
   "outputs": [],
   "source": [
    "from kivy.app import App\n",
    "from kivy.uix.screenmanager import ScreenManager, Screen\n",
    "from kivy.lang import Builder\n",
    "\n",
    "Builder.load_file('frontend.kv')\n",
    "\n",
    "\n",
    "class CameraScreen(Screen):\n",
    "\n",
    "    def start(self):\n",
    "        pass\n",
    "\n",
    "    def stop(self):\n",
    "        pass\n",
    "\n",
    "    def capture(self):\n",
    "        pass\n",
    "\n",
    "\n",
    "class FileSharer: # I need to go back into the last module of the Flatmates Bill Sharing App to find this code explanation.\n",
    "\n",
    "    def __init__(self, filepath, api_key=\"AViVqp7suSQWWEdrl6hf9z\"):\n",
    "        self.filepath = filepath\n",
    "        self.api_key = api_key\n",
    "\n",
    "    # def share(self):\n",
    "    #     client = Client(self.api_key)\n",
    "    #     new_filelink = client.upload(filepath=self.filepath)\n",
    "    #     return new_filelink.url\n",
    "    \n",
    "\n",
    "class ImageScren(Screen):\n",
    "    pass\n",
    "\n",
    "\n",
    "class RootWidget(ScreenManager):\n",
    "    pass\n",
    "\n",
    "class MainApp(App):\n",
    "\n",
    "    def build(self):\n",
    "        return RootWidget()\n",
    "\n",
    "MainApp().run()"
   ]
  },
  {
   "cell_type": "markdown",
   "metadata": {},
   "source": [
    "Despite being listed as a class object in the design document, we are already going to define the functionality of the webcam in the CameraScreen class so we do not need to create a Webcam class of its own."
   ]
  },
  {
   "cell_type": "markdown",
   "metadata": {},
   "source": [
    "    90. Creating the Camera Screen\n",
    "\n",
    "We're going to encounter an error in this module regarding a missing package. This is the \"opencsv-python\" package which allows us to activate the camera remotely through python code."
   ]
  },
  {
   "cell_type": "code",
   "execution_count": null,
   "metadata": {},
   "outputs": [],
   "source": [
    "# New frontend code\n",
    "Builder.load_string(\"\"\"\n",
    "<CameraScreen>:\n",
    "    GridLayout:\n",
    "        cols: 1\n",
    "        Camera: # Kivy has it's own inherent camera widget\n",
    "            resolution: (640, 480)\n",
    "            play: False # Stating False here will make it so that the camera will not start automatically when the code is run.\n",
    "        Button:\n",
    "            text: 'Start Camera'\n",
    "        Button:\n",
    "            text: 'Capture Image'\n",
    "\n",
    "<RootWidget>:\n",
    "    CameraScreen:\n",
    "        id: camera_screen\n",
    "        name: 'camera_screen'\n",
    "\"\"\")    "
   ]
  },
  {
   "cell_type": "markdown",
   "metadata": {},
   "source": [
    "    91. Starting the Camera"
   ]
  },
  {
   "cell_type": "code",
   "execution_count": null,
   "metadata": {},
   "outputs": [],
   "source": [
    "# Updating frontend to include a button press action on the camera screen, as well as ID the camera widget.\n",
    "Builder.load_string(\"\"\"\n",
    "<CameraScreen>:\n",
    "    GridLayout:\n",
    "        cols: 1\n",
    "        Camera:\n",
    "            id: camera\n",
    "            resolution: (640, 480)\n",
    "            play: False \n",
    "        Button:\n",
    "            text: 'Start Camera'\n",
    "            on_press: root.start()\n",
    "        Button:\n",
    "            text: 'Capture Image'\n",
    "\n",
    "<RootWidget>:\n",
    "    CameraScreen:\n",
    "        id: camera_screen\n",
    "        name: 'camera_screen'\n",
    "\"\"\")    "
   ]
  },
  {
   "cell_type": "code",
   "execution_count": null,
   "metadata": {},
   "outputs": [],
   "source": [
    "# Creating a method which attaches a command to the Camera Widget through the widget ID.\n",
    "class CameraScreen(Screen):\n",
    "    \n",
    "    def start(self):\n",
    "        self.ids.camera.play = True"
   ]
  },
  {
   "cell_type": "markdown",
   "metadata": {},
   "source": [
    "Above, we simply use the \"play\" command inherent to the Camera method in the kivy library. By setting it equal to \"True\", we allow the camera to play when pressing the Start Camera button linked to the \"start\" method."
   ]
  },
  {
   "cell_type": "markdown",
   "metadata": {},
   "source": [
    "    92. Stopping the Camera\n",
    "\n",
    "We will be writing code which will allow us to stop the camera feed after we press the \"Start Camera\" button a second time. Do make an intelligent frontend in this fashion, we will use conditionals in the kivy file."
   ]
  },
  {
   "cell_type": "code",
   "execution_count": null,
   "metadata": {},
   "outputs": [],
   "source": [
    "Builder.load_string(\"\"\"\n",
    "<CameraScreen>:\n",
    "    GridLayout:\n",
    "        cols: 1\n",
    "        Camera:\n",
    "            id: camera\n",
    "            resolution: (640, 480)\n",
    "            play: False \n",
    "        Button:\n",
    "            text: 'Start Camera'\n",
    "            on_press: root.start() if root.ids.camera.play == False else root.stop()\n",
    "        Button:\n",
    "            text: 'Capture Image'\n",
    "\n",
    "<RootWidget>:\n",
    "    CameraScreen:\n",
    "        id: camera_screen\n",
    "        name: 'camera_screen'\n",
    "\"\"\")"
   ]
  },
  {
   "cell_type": "markdown",
   "metadata": {},
   "source": [
    "The new code on the on_press action states that the action will only run on the method if the camera is already *off*. If the the camera is anything else other than off (i.e. on), the command will run the \"stop\" action instead."
   ]
  },
  {
   "cell_type": "markdown",
   "metadata": {},
   "source": [
    "However, if we want the name of the button to change to \"Stop Camera\" while the camera is running, we need to design some more frontend code of the camera widget."
   ]
  },
  {
   "cell_type": "code",
   "execution_count": null,
   "metadata": {},
   "outputs": [],
   "source": [
    "Builder.load_string(\"\"\"\n",
    "<CameraScreen>:\n",
    "    GridLayout:\n",
    "        cols: 1\n",
    "        Camera:\n",
    "            id: camera\n",
    "            resolution: (640, 480)\n",
    "            play: False \n",
    "        Button:\n",
    "            id: camera_button\n",
    "            text: 'Start Camera'\n",
    "            on_press: root.start() if root.ids.camera.play == False else root.stop()\n",
    "        Button:\n",
    "            text: 'Capture Image'\n",
    "\n",
    "<RootWidget>:\n",
    "    CameraScreen:\n",
    "        id: camera_screen\n",
    "        name: 'camera_screen'\n",
    "\"\"\")"
   ]
  },
  {
   "cell_type": "markdown",
   "metadata": {},
   "source": [
    "My initial instinct was to create a conditional on the Button text line which describes what the button should say under certain circumstances. However, we can make this a bit cleaner and more efficient if we simple run a similar command attached to a widget ID in the \"start\" and \"stop\" methods of the CameraScreen class."
   ]
  },
  {
   "cell_type": "code",
   "execution_count": null,
   "metadata": {},
   "outputs": [],
   "source": [
    "class CameraScreen(Screen):\n",
    "    \n",
    "    def start(self):\n",
    "        self.ids.camera.play = True\n",
    "        self.ids.camera_button.text = \"Stop Camera\"\n",
    "\n",
    "    def stop(self):\n",
    "        self.ids.camera.play = False\n",
    "        self.ids.camera_button.text = \"Start Camera\""
   ]
  },
  {
   "cell_type": "markdown",
   "metadata": {},
   "source": [
    "This change however will only stop the camera and freeze it on the last played frame. If we want to remove this frame on the root.stop() action and display a blank screen, we need to define this action."
   ]
  },
  {
   "cell_type": "code",
   "execution_count": null,
   "metadata": {},
   "outputs": [],
   "source": [
    "class CameraScreen(Screen):\n",
    "    \n",
    "    def start(self):\n",
    "        self.ids.camera.play = True\n",
    "        self.ids.camera_button.text = \"Stop Camera\"\n",
    "        self.ids.camera.texture = self.ids.camera._camera.texture\n",
    "\n",
    "    def stop(self):\n",
    "        self.ids.camera.play = False\n",
    "        self.ids.camera_button.text = \"Start Camera\"\n",
    "        self.ids.camera.texture = None\n",
    "\n",
    "# By adding the texture statements to both the start and stop methods, we are defining a default camera texture to the start method\n",
    "# and removing the camera texture completely on the stop method, which removes the camera display altogether."
   ]
  },
  {
   "cell_type": "markdown",
   "metadata": {},
   "source": [
    "    93. L4 - Capturing a Photo from the Camera\n",
    "\n",
    "Now we are defining the \"capture\" image by creating an action to save the last frame displayed on the webcam as a jpg or png file."
   ]
  },
  {
   "cell_type": "code",
   "execution_count": null,
   "metadata": {},
   "outputs": [],
   "source": [
    "Builder.load_string(\"\"\"\n",
    "<CameraScreen>:\n",
    "    GridLayout:\n",
    "        cols: 1\n",
    "        Camera:\n",
    "            id: camera\n",
    "            resolution: (640, 480)\n",
    "            play: False \n",
    "        Button:\n",
    "            id: camera_button\n",
    "            text: 'Start Camera'\n",
    "            on_press: root.start() if root.ids.camera.play == False else root.stop()\n",
    "        Button:\n",
    "            text: 'Capture Image'\n",
    "            on_press: root.capture() # By using the root keyword on press, we are rooting the frontend displays to the correct methods.\n",
    "\n",
    "<RootWidget>:\n",
    "    CameraScreen:\n",
    "        id: camera_screen\n",
    "        name: 'camera_screen'\n",
    "\"\"\")"
   ]
  },
  {
   "cell_type": "code",
   "execution_count": null,
   "metadata": {},
   "outputs": [],
   "source": [
    "class CameraScree(Screen):\n",
    "\n",
    "    def capture(self):\n",
    "        self.ids.camera.export_to_png()\n",
    "        # This is very simple code. Simply use the \"export_to_png\" command already inherent to the kivy library."
   ]
  }
 ],
 "metadata": {
  "kernelspec": {
   "display_name": "Python 3.11.6 64-bit",
   "language": "python",
   "name": "python3"
  },
  "language_info": {
   "name": "python",
   "version": "3.11.6"
  },
  "orig_nbformat": 4,
  "vscode": {
   "interpreter": {
    "hash": "aee8b7b246df8f9039afb4144a1f6fd8d2ca17a180786b69acc140d282b71a49"
   }
  }
 },
 "nbformat": 4,
 "nbformat_minor": 2
}
