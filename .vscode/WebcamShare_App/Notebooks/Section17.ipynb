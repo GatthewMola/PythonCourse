{
 "cells": [
  {
   "cell_type": "markdown",
   "metadata": {},
   "source": [
    "    87. Design the Frontend\n",
    "\n",
    "Ardit shows the process of him drawing the \"design-frontend.jpg\" file in our images folder.\n",
    "\n",
    "The app has two screens: the Camera Screen and the Image Screen."
   ]
  },
  {
   "cell_type": "markdown",
   "metadata": {},
   "source": [
    "__Camera Screen__\n",
    "\n",
    "The Camera Screen displays the webcam of the user. The webcam will activate when the user presses the \"Start\" button. The second \"Capture\" button will capture a frame of the active webcam and convert it to an image. At the same time, the button will open the second Image Screen and display the captured screen."
   ]
  },
  {
   "cell_type": "markdown",
   "metadata": {},
   "source": [
    "__Image Screen__\n",
    "\n",
    "The Image Screen displays the captured image in a large widget. Below it is a large button for \"Create Link\". Clicking this button will activate a widget with a link for the image. Below this initially invisible widget are two different buttons: \"Copy\" and \"Open\". The Copy button will copy the image link to the user's clipboard. The Open button will open the image link in the user's browser."
   ]
  },
  {
   "cell_type": "markdown",
   "metadata": {},
   "source": [
    "    88. Designing the Object Types\n",
    "\n",
    "Ardit simply shows the process of him creating the design.txt document."
   ]
  },
  {
   "cell_type": "markdown",
   "metadata": {},
   "source": [
    "    89. Creating the Empty Classes\n",
    "\n",
    "Just like we learned in the previous Webcam app, we're going to introduce some boiler plate Python/Kivy code to the MainApp file."
   ]
  },
  {
   "cell_type": "code",
   "execution_count": null,
   "metadata": {},
   "outputs": [],
   "source": [
    "from kivy.app import App\n",
    "from kivy.uix.screenmanager import ScreenManager, Screen\n",
    "from kivy.lang import Builder\n",
    "\n",
    "Builder.load_file('frontend.kv')\n",
    "\n",
    "\n",
    "class CameraScreen(Screen):\n",
    "    pass\n",
    "\n",
    "\n",
    "class ImageScren(Screen):\n",
    "    pass\n",
    "\n",
    "\n",
    "class RootWidget(ScreenManager):\n",
    "    pass\n",
    "\n",
    "class MainApp(App):\n",
    "\n",
    "    def build(self):\n",
    "        return RootWidget()\n",
    "\n",
    "MainApp().run()"
   ]
  },
  {
   "cell_type": "markdown",
   "metadata": {},
   "source": [
    "Despite being listed as a class object in the design document, we are already going to define the functionality of the webcam in the CameraScreen class so we do not need to create a Webcam class of its own."
   ]
  }
 ],
 "metadata": {
  "kernelspec": {
   "display_name": "Python 3.11.6 64-bit",
   "language": "python",
   "name": "python3"
  },
  "language_info": {
   "name": "python",
   "version": "3.11.6"
  },
  "orig_nbformat": 4,
  "vscode": {
   "interpreter": {
    "hash": "aee8b7b246df8f9039afb4144a1f6fd8d2ca17a180786b69acc140d282b71a49"
   }
  }
 },
 "nbformat": 4,
 "nbformat_minor": 2
}
