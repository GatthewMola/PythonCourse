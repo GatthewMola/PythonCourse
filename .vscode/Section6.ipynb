{
 "cells": [
  {
   "cell_type": "markdown",
   "metadata": {},
   "source": [
    "    Section 6: App 1: Geometry Game - Inheritance"
   ]
  },
  {
   "cell_type": "markdown",
   "metadata": {},
   "source": [
    "    32. Problem Statement\n",
    "\n",
    "We would like to give the user graphical context of the answer our game is giving them once they guess their coordinates. i.e. We want to show them where on a canvas their guess coordinate is in relation to the generated rectangle.\n",
    "\n",
    "To create this graphical canvas, we'll use the \"turtle\" library of graphical tools inherent to Python.\n",
    "\n",
    "Going forward, I will write what notes I can into this notebook while writing the main bulk of code into the \"GeometryGame.py\" file in order to compile the game."
   ]
  },
  {
   "cell_type": "markdown",
   "metadata": {},
   "source": [
    "    33. Investigating the Code\n",
    "\n",
    "Now we're going to begin working with the 'turtle' library."
   ]
  },
  {
   "cell_type": "code",
   "execution_count": null,
   "metadata": {},
   "outputs": [],
   "source": [
    "import turtle\n",
    "\n",
    "myturtle = turtle.Turtle()\n",
    "\n",
    "myturtle.forward(100)"
   ]
  },
  {
   "cell_type": "markdown",
   "metadata": {},
   "source": [
    "We can use the method \".forward\" with the method \".Turtle\" because \".forward\" is a method created under the parent class for turtle. This concept is called inhertiance, we'll go over it soon."
   ]
  }
 ],
 "metadata": {
  "kernelspec": {
   "display_name": "Python 3.9.6 64-bit",
   "language": "python",
   "name": "python3"
  },
  "language_info": {
   "codemirror_mode": {
    "name": "ipython",
    "version": 3
   },
   "file_extension": ".py",
   "mimetype": "text/x-python",
   "name": "python",
   "nbconvert_exporter": "python",
   "pygments_lexer": "ipython3",
   "version": "3.9.6"
  },
  "orig_nbformat": 4,
  "vscode": {
   "interpreter": {
    "hash": "31f2aee4e71d21fbe5cf8b01ff0e069b9275f58929596ceb00d14d90e3e16cd6"
   }
  }
 },
 "nbformat": 4,
 "nbformat_minor": 2
}
