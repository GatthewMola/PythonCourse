{
 "cells": [
  {
   "cell_type": "markdown",
   "metadata": {},
   "source": [
    "21. Creating a Second Class for Our Program\n",
    "\n",
    "Here is the code we finished in Section 3:\n"
   ]
  },
  {
   "cell_type": "code",
   "execution_count": 37,
   "metadata": {},
   "outputs": [],
   "source": [
    "class Point:\n",
    "\n",
    "    def __init__(self, x, y):\n",
    "        self.x = x\n",
    "        self.y = y\n",
    "        \n",
    "    def falls_in_rectangle(self, lowleft, upright):\n",
    "        if lowleft[0] < self.x < upright[0] \\\n",
    "        and lowleft [1] < self.y < upright[1]:\n",
    "            return True\n",
    "        else:\n",
    "            return False"
   ]
  },
  {
   "cell_type": "code",
   "execution_count": 38,
   "metadata": {},
   "outputs": [
    {
     "data": {
      "text/plain": [
       "True"
      ]
     },
     "execution_count": 38,
     "metadata": {},
     "output_type": "execute_result"
    }
   ],
   "source": [
    "point1 = Point(6, 7) # This code represents the init method defining attributes for the executable method.\n",
    "point1.falls_in_rectangle((5, 6), (7, 9)) # This code represents the attributes (object instance) that is being \\\n",
    "                                          # executed by the \"falls_in_rectangle\" executable."
   ]
  },
  {
   "cell_type": "markdown",
   "metadata": {},
   "source": [
    "Now we will create a class which defines methods for our Rectangle:"
   ]
  },
  {
   "cell_type": "code",
   "execution_count": 39,
   "metadata": {},
   "outputs": [],
   "source": [
    "class Rectangle:\n",
    "\n",
    "    def __init__(self, lowleft, upright):\n",
    "        self.lowleft = lowleft\n",
    "        self.upright = upright"
   ]
  },
  {
   "cell_type": "code",
   "execution_count": 40,
   "metadata": {},
   "outputs": [],
   "source": [
    "pointx = Point(6, 7)"
   ]
  },
  {
   "cell_type": "code",
   "execution_count": 41,
   "metadata": {},
   "outputs": [],
   "source": [
    "rectanglex = Rectangle(Point(5, 6), Point(7,9))"
   ]
  },
  {
   "cell_type": "markdown",
   "metadata": {},
   "source": [
    "In __rectanglex__, we are defining two Points - two x and y coordinates - as the lower left and upper right points of our rectangle. We used an __init__ method in our Rectangle class because we want to define attributes - i.e. we want to define points for our rectangle through an equal statement. These points can then be run through an executable method."
   ]
  },
  {
   "cell_type": "code",
   "execution_count": 42,
   "metadata": {},
   "outputs": [],
   "source": [
    "# pointx.falls_in_rectangle(rectanglex)"
   ]
  },
  {
   "cell_type": "markdown",
   "metadata": {},
   "source": [
    "We receive an error for this code (including as a comment after the fact) because we have only give a single attribute for this argument. The \"falls_in_rectangle\" method requires there be a lowleft and upright argument to run.\n",
    "\n",
    "If we want this executable to run according to our new Rectangle class, we need to adjust our executable method."
   ]
  },
  {
   "cell_type": "code",
   "execution_count": 43,
   "metadata": {},
   "outputs": [],
   "source": [
    "class Point:\n",
    "\n",
    "    def __init__(self, x, y):\n",
    "        self.x = x\n",
    "        self.y = y\n",
    "        \n",
    "    def falls_in_rectangle(self, rectangle):\n",
    "        if rectangle.lowleft[0] < self.x < rectangle.upright[0] \\\n",
    "        and rectangle.lowleft [1] < self.y < rectangle.upright[1]:\n",
    "            return True\n",
    "        else:\n",
    "            return False"
   ]
  },
  {
   "cell_type": "markdown",
   "metadata": {},
   "source": [
    "I will now run the attribute and executable statements again so that Jupyter will run them against the new class function."
   ]
  },
  {
   "cell_type": "code",
   "execution_count": 44,
   "metadata": {},
   "outputs": [],
   "source": [
    "pointx = Point(6, 7)"
   ]
  },
  {
   "cell_type": "code",
   "execution_count": 45,
   "metadata": {},
   "outputs": [],
   "source": [
    "rectanglex = Rectangle(Point(5, 6), Point(7,9))"
   ]
  },
  {
   "cell_type": "code",
   "execution_count": 46,
   "metadata": {},
   "outputs": [
    {
     "ename": "TypeError",
     "evalue": "'Point' object is not subscriptable",
     "output_type": "error",
     "traceback": [
      "\u001b[0;31m---------------------------------------------------------------------------\u001b[0m",
      "\u001b[0;31mTypeError\u001b[0m                                 Traceback (most recent call last)",
      "Cell \u001b[0;32mIn[46], line 1\u001b[0m\n\u001b[0;32m----> 1\u001b[0m pointx\u001b[39m.\u001b[39;49mfalls_in_rectangle(rectanglex)\n",
      "Cell \u001b[0;32mIn[43], line 8\u001b[0m, in \u001b[0;36mPoint.falls_in_rectangle\u001b[0;34m(self, rectangle)\u001b[0m\n\u001b[1;32m      7\u001b[0m \u001b[39mdef\u001b[39;00m \u001b[39mfalls_in_rectangle\u001b[39m(\u001b[39mself\u001b[39m, rectangle):\n\u001b[0;32m----> 8\u001b[0m     \u001b[39mif\u001b[39;00m rectangle\u001b[39m.\u001b[39;49mlowleft[\u001b[39m0\u001b[39;49m] \u001b[39m<\u001b[39m \u001b[39mself\u001b[39m\u001b[39m.\u001b[39mx \u001b[39m<\u001b[39m rectangle\u001b[39m.\u001b[39mupright[\u001b[39m0\u001b[39m] \\\n\u001b[1;32m      9\u001b[0m     \u001b[39mand\u001b[39;00m rectangle\u001b[39m.\u001b[39mlowleft [\u001b[39m1\u001b[39m] \u001b[39m<\u001b[39m \u001b[39mself\u001b[39m\u001b[39m.\u001b[39my \u001b[39m<\u001b[39m rectangle\u001b[39m.\u001b[39mupright[\u001b[39m1\u001b[39m]:\n\u001b[1;32m     10\u001b[0m         \u001b[39mreturn\u001b[39;00m \u001b[39mTrue\u001b[39;00m\n\u001b[1;32m     11\u001b[0m     \u001b[39melse\u001b[39;00m:\n",
      "\u001b[0;31mTypeError\u001b[0m: 'Point' object is not subscriptable"
     ]
    }
   ],
   "source": [
    "pointx.falls_in_rectangle(rectanglex)"
   ]
  },
  {
   "cell_type": "markdown",
   "metadata": {},
   "source": [
    "The reason we are getting this error is because \"rectangle.lowleft[0]\" is referring to the script \"Point(5, 6)\", which is not a tibble or list. \"Point(5, 6)\" is a class object which is not capable of indexing.\n",
    "\n",
    "We will need to adjust our Point class function another time in order to get around this error."
   ]
  },
  {
   "cell_type": "code",
   "execution_count": 47,
   "metadata": {},
   "outputs": [],
   "source": [
    "class Point:\n",
    "\n",
    "    def __init__(self, x, y):\n",
    "        self.x = x\n",
    "        self.y = y\n",
    "        \n",
    "    def falls_in_rectangle(self, rectangle):\n",
    "        if rectangle.lowleft.x < self.x < rectangle.upright.x \\\n",
    "        and rectangle.lowleft.y < self.y < rectangle.upright.y:\n",
    "            return True\n",
    "        else:\n",
    "            return False"
   ]
  },
  {
   "cell_type": "markdown",
   "metadata": {},
   "source": [
    "We are changing the \"[0]\" and \"[1]\" characters as they refer to characters in a list, which we are no longer referring to in our executable.\n",
    "\n",
    "We are changing the characters to \".x\" and \".y\" respectively to refer to the 'x' and 'y' attributes of our init method in the Point class."
   ]
  },
  {
   "cell_type": "code",
   "execution_count": 48,
   "metadata": {},
   "outputs": [],
   "source": [
    "pointx = Point(6, 7)"
   ]
  },
  {
   "cell_type": "code",
   "execution_count": 49,
   "metadata": {},
   "outputs": [],
   "source": [
    "rectanglex = Rectangle(Point(5, 6), Point(7,9))"
   ]
  },
  {
   "cell_type": "code",
   "execution_count": 50,
   "metadata": {},
   "outputs": [
    {
     "data": {
      "text/plain": [
       "True"
      ]
     },
     "execution_count": 50,
     "metadata": {},
     "output_type": "execute_result"
    }
   ],
   "source": [
    "pointx.falls_in_rectangle(rectanglex)"
   ]
  },
  {
   "cell_type": "markdown",
   "metadata": {},
   "source": [
    "22. Wrapping Things Up"
   ]
  }
 ],
 "metadata": {
  "kernelspec": {
   "display_name": "Python 3.9.6 64-bit",
   "language": "python",
   "name": "python3"
  },
  "language_info": {
   "codemirror_mode": {
    "name": "ipython",
    "version": 3
   },
   "file_extension": ".py",
   "mimetype": "text/x-python",
   "name": "python",
   "nbconvert_exporter": "python",
   "pygments_lexer": "ipython3",
   "version": "3.9.6"
  },
  "orig_nbformat": 4,
  "vscode": {
   "interpreter": {
    "hash": "31f2aee4e71d21fbe5cf8b01ff0e069b9275f58929596ceb00d14d90e3e16cd6"
   }
  }
 },
 "nbformat": 4,
 "nbformat_minor": 2
}
