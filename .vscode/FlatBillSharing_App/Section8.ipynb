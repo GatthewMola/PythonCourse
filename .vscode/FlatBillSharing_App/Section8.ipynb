{
 "cells": [
  {
   "cell_type": "markdown",
   "metadata": {},
   "source": [
    "    44. Implementing the \"pays\" Method\n",
    "\n",
    "We are now back to the drawing board. We currently have scrap code in for the return method in the \"pays\" method. We need to trash this code and figure out a formula that will calculate a flatmate's bill given the amount of the total bill and the # of days they've spent in the flat.\n",
    "\n",
    "Say the total bill is $120. If both flatmates have spent the same number of days living in the flat, they will pay the same ratio of the bill (50/50 split, i.e. $60 each).\n",
    "\n",
    "However, if the flatmate's have spent a differing amount of time in the flat, we will need to find the coefficient of the # of days each has spent (i.e. day1 / day1 + day2). The coefficient for the other flat mate will be the opposite of the previous formula. From this coefficient, we can determine the bill for that roommate (120 * coefficient)."
   ]
  },
  {
   "cell_type": "code",
   "execution_count": null,
   "metadata": {},
   "outputs": [],
   "source": [
    "# \"pays\" method (turn the figures in the formula we created into parameters in the code)\n",
    "def pays(self, bill, flatmate2):\n",
    "        weight = (self.days_in_flat / (self.days_in_flat + flatmate2.days_in_flat))\n",
    "        to_pay = bill.amount * weight\n",
    "        return to_pay\n",
    "# Don't forget order of operations in the \"weight\" variable."
   ]
  },
  {
   "cell_type": "markdown",
   "metadata": {},
   "source": [
    "    46. Generating a PDF Document\n",
    "\n"
   ]
  }
 ],
 "metadata": {
  "kernelspec": {
   "display_name": "Python 3.11.5 ('base')",
   "language": "python",
   "name": "python3"
  },
  "language_info": {
   "name": "python",
   "version": "3.11.5"
  },
  "orig_nbformat": 4,
  "vscode": {
   "interpreter": {
    "hash": "3067ead486e059ec00ffe7555bdb889e6e264a24dc711bf108106cc7baee8d5d"
   }
  }
 },
 "nbformat": 4,
 "nbformat_minor": 2
}
