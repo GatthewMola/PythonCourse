{
 "cells": [
  {
   "cell_type": "markdown",
   "metadata": {},
   "source": [
    "    44. Implementing the \"pays\" Method\n",
    "\n",
    "We are now back to the drawing board. We currently have scrap code in for the return method in the \"pays\" method. We need to trash this code and figure out a formula that will calculate a flatmate's bill given the amount of the total bill and the # of days they've spent in the flat.\n",
    "\n",
    "Say the total bill is $120. If both flatmates have spent the same number of days living in the flat, they will pay the same ratio of the bill (50/50 split, i.e. $60 each).\n",
    "\n",
    "However, if the flatmate's have spent a differing amount of time in the flat, we will need to find the coefficient of the # of days each has spent (i.e. day1 / day1 + day2). The coefficient for the other flat mate will be the opposite of the previous formula. From this coefficient, we can determine the bill for that roommate (120 * coefficient)."
   ]
  },
  {
   "cell_type": "code",
   "execution_count": null,
   "metadata": {},
   "outputs": [],
   "source": [
    "# \"pays\" method (turn the figures in the formula we created into parameters in the code)\n",
    "def pays(self, bill, flatmate2):\n",
    "        weight = (self.days_in_flat / (self.days_in_flat + flatmate2.days_in_flat))\n",
    "        to_pay = bill.amount * weight\n",
    "        return to_pay\n",
    "# Don't forget order of operations in the \"weight\" variable."
   ]
  },
  {
   "cell_type": "markdown",
   "metadata": {},
   "source": [
    "    46. Generating a PDF Document\n",
    "\n",
    "See \"fpdf_test.py\" file"
   ]
  },
  {
   "cell_type": "markdown",
   "metadata": {},
   "source": [
    "    47. Implementing the \"generate\" Method\n",
    "\n",
    "We will now copy the code we wrote in the \"fpdf_test.py\" file and transfer it to our \"generate\" method in the main app file."
   ]
  },
  {
   "cell_type": "markdown",
   "metadata": {},
   "source": [
    "__AttributeError: 'float' object has no attribute 'replace'__\n",
    "\n",
    "We are receiving this error because we are trying to run this code:"
   ]
  },
  {
   "cell_type": "code",
   "execution_count": null,
   "metadata": {},
   "outputs": [],
   "source": [
    "pdf.cell(w=175, h=40, txt=flatmate1.pays(bill, flatmate2), border=1, ln=1)"
   ]
  },
  {
   "cell_type": "markdown",
   "metadata": {},
   "source": [
    "The error explains that the '.pays' method is expecting a float integer as output (this method is returning the result of our coefficient formula). In order to output this method as text in our PDF, we need to adjust the code to run the output as a string."
   ]
  },
  {
   "cell_type": "code",
   "execution_count": null,
   "metadata": {},
   "outputs": [],
   "source": [
    "pdf.cell(w=175, h=40, txt=str(flatmate1.pays(bill, flatmate2)), border=1, ln=1)"
   ]
  },
  {
   "cell_type": "markdown",
   "metadata": {},
   "source": [
    "    48. Polishing the \n",
    "\n",
    "We will round up the pay amount decimal to make it cleaner in the PDF."
   ]
  },
  {
   "cell_type": "code",
   "execution_count": null,
   "metadata": {},
   "outputs": [],
   "source": [
    "pdf.cell(w=175, h=40, txt=str(round(flatmate1.pays(bill, flatmate2), 2)), border=1, ln=1)"
   ]
  },
  {
   "cell_type": "markdown",
   "metadata": {},
   "source": [
    "This text string is getting quite long. In order to clean up this cell code, we can cut the text instance altogether and past it into the class object as a new variable, then recall the variable in the text instance."
   ]
  },
  {
   "cell_type": "code",
   "execution_count": null,
   "metadata": {},
   "outputs": [],
   "source": [
    "flatmate1_pay = str(round(flatmate1.pays(bill, flatmate2), 2))\n",
    "\n",
    "txt = flatmate1_pay"
   ]
  },
  {
   "cell_type": "markdown",
   "metadata": {},
   "source": [
    "    48. Adding an Image to the PDF Document\n",
    "\n",
    "Using the \"house.png\" file from the course resources, we will add an image to the PDF output. Remember to use the full file path when adding this image as VSCode will need to be able to find the image in a directory. If you use the name of the file alone, VSCode will attempt to find the file within the \"python3.11\" directory folder where current python interpreter is located."
   ]
  },
  {
   "cell_type": "code",
   "execution_count": null,
   "metadata": {},
   "outputs": [],
   "source": [
    "pdf.image(\"/Users/mattgola/Desktop/GitHub/Python Course/files-master/App-2-Flatmates-Bill/files/house.png\")"
   ]
  },
  {
   "cell_type": "markdown",
   "metadata": {},
   "source": [
    "Adding in the file alone will use the default dimensions from the file. However, we can resize manually within the parentheses."
   ]
  },
  {
   "cell_type": "code",
   "execution_count": null,
   "metadata": {},
   "outputs": [],
   "source": [
    "pdf.image(\"/Users/mattgola/Desktop/GitHub/Python Course/files-master/App-2-Flatmates-Bill/files/house.png\", w=30, h=30)"
   ]
  },
  {
   "cell_type": "markdown",
   "metadata": {},
   "source": [
    "    49. Changing the PDF Font Text\n",
    "\n",
    "Below we are implementing code to change the font style for the period cells"
   ]
  },
  {
   "cell_type": "code",
   "execution_count": null,
   "metadata": {},
   "outputs": [],
   "source": [
    "pdf.set_font(family=\"Times\", size=14, style='B')"
   ]
  },
  {
   "cell_type": "markdown",
   "metadata": {},
   "source": [
    "We can run similar code to change the font format for each of our cells."
   ]
  },
  {
   "cell_type": "markdown",
   "metadata": {},
   "source": [
    "    50. Automatically View a PDF File\n",
    "\n",
    "While executing this code, we have had to open, close, an reopen our PDF report several times. We can run some code within our 'generate' method so that this report is run automatically every time we execute our code."
   ]
  },
  {
   "cell_type": "code",
   "execution_count": null,
   "metadata": {},
   "outputs": [],
   "source": [
    "webbrowser.open(self.filename)"
   ]
  },
  {
   "cell_type": "markdown",
   "metadata": {},
   "source": [
    "Because we are running on Mac (same goes for Linux), we need to adjust this code a bit so that VSCode can find the generated file."
   ]
  },
  {
   "cell_type": "code",
   "execution_count": null,
   "metadata": {},
   "outputs": [],
   "source": [
    "webbrowser.open('file://' + os.path.realpath(self.filename))"
   ]
  }
 ],
 "metadata": {
  "kernelspec": {
   "display_name": "Python 3.11.5 ('base')",
   "language": "python",
   "name": "python3"
  },
  "language_info": {
   "name": "python",
   "version": "3.11.5"
  },
  "orig_nbformat": 4,
  "vscode": {
   "interpreter": {
    "hash": "3067ead486e059ec00ffe7555bdb889e6e264a24dc711bf108106cc7baee8d5d"
   }
  }
 },
 "nbformat": 4,
 "nbformat_minor": 2
}
