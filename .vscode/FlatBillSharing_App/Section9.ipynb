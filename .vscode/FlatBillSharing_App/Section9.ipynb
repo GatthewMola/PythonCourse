{
 "cells": [
  {
   "cell_type": "markdown",
   "metadata": {},
   "source": [
    "    Section 9: App 2: Flatmates' Bill Sharing - Building a User Interface\n",
    "\n",
    "Here is our app code so far:"
   ]
  },
  {
   "cell_type": "code",
   "execution_count": null,
   "metadata": {},
   "outputs": [],
   "source": [
    "import webbrowser\n",
    "from fpdf import FPDF\n",
    "\n",
    "class Bill:\n",
    "    \"\"\"\n",
    "    Object that contains data about a bill, such as total\n",
    "    amount and period of the bill.\n",
    "    \"\"\"\n",
    "\n",
    "    def __init__(self, amount, period):\n",
    "        self.amount = amount\n",
    "        self.period = period\n",
    "\n",
    "\n",
    "class Flatmates:\n",
    "    \"\"\"\n",
    "    Object that contains data about the flatmates, such as\n",
    "    the name of roomate, number of days in flat in a month,\n",
    "    and, how much they pay based on given attributes.\n",
    "    \"\"\"  \n",
    "\n",
    "    def __init__(self, name, days_in_flat):\n",
    "        self.name = name\n",
    "        self.days_in_flat = days_in_flat\n",
    "    \n",
    "    def pays(self, bill, flatmate2):\n",
    "        weight = (self.days_in_flat / (self.days_in_flat + flatmate2.days_in_flat))\n",
    "        to_pay = bill.amount * weight\n",
    "        return to_pay\n",
    "\n",
    "\n",
    "class PdfReport:\n",
    "    \"\"\"\n",
    "    Generates a PDF file that contains data about the flatmates, such as\n",
    "    their names and respective calculated bill for that period.\n",
    "    \"\"\"\n",
    "\n",
    "    def __init__(self, filename):\n",
    "        self.filename = filename\n",
    "\n",
    "    def generate(self, flatmate1, flatmate2, bill):\n",
    "\n",
    "        flatmate1_pay = str(round(flatmate1.pays(bill, flatmate2), 2))\n",
    "        flatmate2_pay = str(round(flatmate2.pays(bill, flatmate1), 2))\n",
    "\n",
    "        pdf = FPDF(orientation='P', unit='pt', format='A4')\n",
    "        pdf.add_page()\n",
    "\n",
    "        # Add Icon\n",
    "        pdf.image(\"/Users/mattgola/Desktop/GitHub/Python Course/files-master/App-2-Flatmates-Bill/files/house.png\", w=30, h=30)\n",
    "\n",
    "        # Insert title\n",
    "        pdf.set_font(family='Times', size=24, style='B')\n",
    "        pdf.cell(w=0, h=80, txt=\"Flatmates Bill\", border=0, align=\"C\", ln=1)\n",
    "\n",
    "        # Insert Period and Month labels and values\n",
    "        pdf.set_font(family=\"Times\", size=14, style='B')\n",
    "        pdf.cell(w=100, h=40, txt=\"Period:\", border=0)\n",
    "        pdf.cell(w=175, h=40, txt=bill.period, border=0, ln=1)\n",
    "\n",
    "\n",
    "        # Insert name and due amount for the first flatmate\n",
    "        pdf.set_font(family=\"Times\", size=12)\n",
    "        pdf.cell(w=100, h=25, txt=flatmate1.name, border=0)\n",
    "        pdf.cell(w=175, h=25, txt=flatmate1_pay, border=0, ln=1)\n",
    "\n",
    "        # Insert name and due amount for the second flatmate\n",
    "        pdf.cell(w=100, h=25, txt=flatmate2.name, border=0)\n",
    "        pdf.cell(w=175, h=25, txt=flatmate2_pay, border=0, ln=1)\n",
    "\n",
    "        pdf.output(self.filename)\n",
    "        # Need to debug this file path. According to lecture, I need an absolute path for this method to run, syntax is wrong right now\n",
    "        # webbrowser.open('file://' + /Users/mattgola/Documents/GitHub/PythonCourse/.vscode/FlatBillSharing_App/Report1.pdf(self.filename))\n",
    "\n",
    "\n",
    "a = input(\"Hey User, enter the bill amount\")\n",
    "print(\"This is a\", a)\n",
    "\n",
    "bill = Bill(amount = 120, period = \"November 2023\")\n",
    "matt = Flatmates(name=\"Matt\", days_in_flat=20)\n",
    "syd = Flatmates(name='Syd', days_in_flat=25)\n",
    "\n",
    "print(\"Matt pays: \", matt.pays(bill=bill, flatmate2=syd))\n",
    "print(\"Syd pays: \", syd.pays(bill, flatmate2=matt))\n",
    "\n",
    "pdf_report = PdfReport(filename=\"Report1.pdf\")\n",
    "pdf_report.generate(flatmate1=matt, flatmate2=syd, bill=bill)"
   ]
  },
  {
   "cell_type": "markdown",
   "metadata": {},
   "source": [
    "    52. Three Kinds of Interfaces\n",
    "\n",
    "Right now, our object instances describing the flatmates and the current bill amount and period are written with hardcoded figures. This means that the code itself would need to be changed every time a new bill period comes up, this won't do."
   ]
  },
  {
   "cell_type": "code",
   "execution_count": null,
   "metadata": {},
   "outputs": [],
   "source": [
    "bill = Bill(amount = 120, period = \"November 2023\")\n",
    "matt = Flatmates(name=\"Matt\", days_in_flat=20)\n",
    "syd = Flatmates(name='Syd', days_in_flat=25)"
   ]
  },
  {
   "cell_type": "markdown",
   "metadata": {},
   "source": [
    "So that the flatmates can add this hardcoded data into the methods of the code upon each bill period, we need to create a user interface, specifically a comment line interface (CLI), much like the one we created for the Geometry Game.\n",
    "\n",
    "We can also implement a graphical user interface (GUI), but this is much more difficult to create than a CLI and requires more effort.\n",
    "\n",
    "The third interface option is the web interface - or web app - which allows users to access a web app from a URL through a browser. This is easier for the user to interact with than a GUI or a CLI because it does not require them to download any sort of program or IDE."
   ]
  },
  {
   "cell_type": "markdown",
   "metadata": {},
   "source": [
    "    53. Building a CLI - The Input Function\n",
    "\n",
    "To create a simple CLI, we will us an \"input\" function, which will allow us to run a script which asks the user for information which will be input into specific object instances within the code."
   ]
  },
  {
   "cell_type": "code",
   "execution_count": 1,
   "metadata": {},
   "outputs": [
    {
     "name": "stdout",
     "output_type": "stream",
     "text": [
      "This is a 34\n"
     ]
    }
   ],
   "source": [
    "a = input(\"Hey User, enter the bill amount\")\n",
    "print(\"This is a\", a)"
   ]
  },
  {
   "cell_type": "markdown",
   "metadata": {},
   "source": [
    "We then need to adjust our instances for the bill and flatmates 1 and 2 so that the user input figures can be run through the code."
   ]
  },
  {
   "cell_type": "code",
   "execution_count": null,
   "metadata": {},
   "outputs": [],
   "source": [
    "bill = Bill(amount = a, period = \"November 2023\")\n",
    "matt = Flatmates(name=\"Matt\", days_in_flat=20)\n",
    "syd = Flatmates(name='Syd', days_in_flat=25)"
   ]
  },
  {
   "cell_type": "markdown",
   "metadata": {},
   "source": [
    "However, when we try to run our code upon this revision, we receive an error stating that VSCode \"can't multiply sequene by non-int of type 'float'\". We receive this error because 'a' in bill.amount (from our input function) is being recognized as a string element\n",
    "\n",
    "To get past this error, we simply need to code our input function to be recognized as a float instead of the default string."
   ]
  },
  {
   "cell_type": "code",
   "execution_count": null,
   "metadata": {},
   "outputs": [],
   "source": [
    "a = float(input(\"Hey User, enter the bill amount\"))\n",
    "print(\"This is a\", a)"
   ]
  },
  {
   "cell_type": "markdown",
   "metadata": {},
   "source": [
    "A similar result can be found using \"int()\" instead of float, but float will allow us to output figures with decimal points while integer will only output whole numbers."
   ]
  },
  {
   "cell_type": "markdown",
   "metadata": {},
   "source": [
    "    54. Implementing the Rest of the Input Functions\n",
    "\n",
    "Now that we have a working model for input functions, we need to create the rest so that the program can ask each flatmate how many days they've stayed in the flat for that pay period. Below is my attempt at writing these functions before seeing the next lecture:"
   ]
  },
  {
   "cell_type": "code",
   "execution_count": null,
   "metadata": {},
   "outputs": [],
   "source": [
    "amount = float(input(\"Hey User, enter the bill amount: \"))\n",
    "\n",
    "period = input(\"Enter Period (e.g. December 2020): \")\n",
    "\n",
    "name1 = input(\"Name of Flatmate1: \")\n",
    "name2 = input(\"Name of Flatmate2: \")\n",
    "\n",
    "days_in_flat1 = int(input(f\"{name1}: Days in Flat: \"))\n",
    "days_in_flat2 = int(input(f\"{name2}: Days in Flat: \"))"
   ]
  },
  {
   "cell_type": "markdown",
   "metadata": {},
   "source": [
    "__Don't forget: When inputing a placeholder ({}) into a string, we need to place an 'f' before the start of the string.__"
   ]
  },
  {
   "cell_type": "markdown",
   "metadata": {},
   "source": [
    "Adjustments were also made to the object instances below this code so that the arguments matched:"
   ]
  },
  {
   "cell_type": "code",
   "execution_count": null,
   "metadata": {},
   "outputs": [],
   "source": [
    "bill = Bill(amount, period)\n",
    "flatmate1 = Flatmates(name1, days_in_flat1)\n",
    "flatmate2 = Flatmates(name2, days_in_flat2)"
   ]
  },
  {
   "cell_type": "markdown",
   "metadata": {},
   "source": [
    "__Also important to note that the order of these input functions determines the order these questions will be asked to the user.__\n",
    "\n",
    "Below, I am reorganizing my code so that the questions being asked to the user make more sense in the context."
   ]
  },
  {
   "cell_type": "code",
   "execution_count": null,
   "metadata": {},
   "outputs": [],
   "source": [
    "amount = float(input(\"Hey User, enter the bill amount: \"))\n",
    "\n",
    "period = input(\"Enter Period (e.g. December 2020): \")\n",
    "\n",
    "name1 = input(\"Name of Flatmate1: \")\n",
    "days_in_flat1 = int(input(f\"{name1}: Days in Flat: \"))\n",
    "\n",
    "name2 = input(\"Name of Flatmate2: \")\n",
    "days_in_flat2 = int(input(f\"{name2}: Days in Flat: \"))"
   ]
  },
  {
   "cell_type": "markdown",
   "metadata": {},
   "source": [
    "Following this, we need to make some adjustments to our print and PDF statements based on the addition of the input functions:"
   ]
  },
  {
   "cell_type": "code",
   "execution_count": null,
   "metadata": {},
   "outputs": [],
   "source": [
    "print(f\"{flatmate1.name} pays: \", flatmate1.pays(current_bill, flatmate2))\n",
    "print(f\"{flatmate2.name} pays: \", flatmate2.pays(current_bill, flatmate2))"
   ]
  },
  {
   "cell_type": "code",
   "execution_count": null,
   "metadata": {},
   "outputs": [],
   "source": [
    "pdf_report = PdfReport(filename=f\"{current_bill.period}.pdf\")\n",
    "pdf_report.generate(flatmate1, flatmate2, current_bill)"
   ]
  },
  {
   "cell_type": "markdown",
   "metadata": {},
   "source": [
    "    55. Organizing the Code\n",
    "\n",
    "To make the code easier to manage in the future, we can cut and past different portions of our code into separate files. The separate code files can then be imported and recalled into a main app file to run.\n",
    "\n",
    "For example, say you create a file called \"flat.py\" which will house your Bill and Flat classes. To run those specific classes in the main app file, we can run a from/import statement:"
   ]
  },
  {
   "cell_type": "code",
   "execution_count": null,
   "metadata": {},
   "outputs": [],
   "source": [
    "from flat import Bill, Flatmate"
   ]
  },
  {
   "cell_type": "markdown",
   "metadata": {},
   "source": [
    "You can then run similar statements based on new files housing other pieces of code in the main app file."
   ]
  },
  {
   "cell_type": "markdown",
   "metadata": {},
   "source": [
    "    56. Organizing the Files\n",
    "\n",
    "Ardit essentially just explains the importance of using folders to separate your different types of app folders.\n",
    "\n",
    "He also reminds us that when we move things around into different directories after we have written all the code, we will need to rewrite this code so that it reads out the correct file path for the newly moved file."
   ]
  }
 ],
 "metadata": {
  "kernelspec": {
   "display_name": "Python 3.11.6 64-bit",
   "language": "python",
   "name": "python3"
  },
  "language_info": {
   "codemirror_mode": {
    "name": "ipython",
    "version": 3
   },
   "file_extension": ".py",
   "mimetype": "text/x-python",
   "name": "python",
   "nbconvert_exporter": "python",
   "pygments_lexer": "ipython3",
   "version": "3.11.6"
  },
  "orig_nbformat": 4,
  "vscode": {
   "interpreter": {
    "hash": "aee8b7b246df8f9039afb4144a1f6fd8d2ca17a180786b69acc140d282b71a49"
   }
  }
 },
 "nbformat": 4,
 "nbformat_minor": 2
}
