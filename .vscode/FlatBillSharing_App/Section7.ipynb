{
 "cells": [
  {
   "cell_type": "markdown",
   "metadata": {},
   "source": [
    "    Section 7: App 2: Flatmates' Bill Sharing - Planning Phase"
   ]
  },
  {
   "cell_type": "markdown",
   "metadata": {},
   "source": [
    "    41. Planning the App\n",
    "\n",
    "When designing an app from scratch, it's best not to immediately create a base Python file and beginning writing the code for the app.\n",
    "\n",
    "When creating an app, it is best to consider the flow of the project, how you are going to get from Point A to Point B in app development. First begin with the basic app design, then determine the objects that will need to be created for the app to function. From these objects, classes and methods can then be determined."
   ]
  },
  {
   "cell_type": "markdown",
   "metadata": {},
   "source": [
    "Design Document:\n",
    "\n",
    "We want outline the specific objects that will be written into the app. These objects and their object types will determine the classes we create, which in turn determine what object instances we can create.\n",
    "\n",
    "When we determine our object classes from the design document, we also want to assign the attributes which we will assign within these classes. Furthermore, we will determine the method(s) through which we will run our object instances."
   ]
  },
  {
   "cell_type": "markdown",
   "metadata": {},
   "source": [
    "    42. Writing the Empty Classes\n",
    "\n",
    "Now that we've outlined the classes, attributes, and methods for our app, it's time to create the framework for these objects in our app file.\n",
    "\n",
    "Rememeber to use the __\"pass\"__ operator to execute an empty method. This will allow all of your code to run without executing the method in which the operator was placed. Good for when you are still working through other classes in the app and don't want to worry about dealing with that method just yet before making the code run properly."
   ]
  },
  {
   "cell_type": "markdown",
   "metadata": {},
   "source": [
    "Encountering the Error:\n",
    "\n",
    " __TypeError: unsupported operand type(s) for /: 'Bill' and 'int'__\n",
    "\n",
    " After creating a simple return statment for our \"pays(bill)\" method, we run into this TypeError. We are receiving this error because we are attempting to divide a class object by an integer. This cannot be done in Python.\n",
    "\n",
    " In order to fix this error, we need to add the \"amount\" parameter/attribute to the \"bill\" class object: bill.amount. Python can only run operands in a return statement against class parameters, not class objects themselves.\n",
    " "
   ]
  },
  {
   "cell_type": "markdown",
   "metadata": {},
   "source": [
    "    43. Note\n",
    "\n",
    "Note that we explicitly mentioned the argument names in the calls, but you can get the exact same behavior by directly passing argument values without argument names.\n",
    "\n",
    "It is up to the programmer's style which method is chosen, however the explicit method offers easier reading and the direct method offers more efficient code."
   ]
  },
  {
   "cell_type": "code",
   "execution_count": null,
   "metadata": {},
   "outputs": [],
   "source": [
    "# Explicit Method\n",
    "syd = Flatmates(name='Syd', days_in_flat=25)"
   ]
  },
  {
   "cell_type": "code",
   "execution_count": null,
   "metadata": {},
   "outputs": [],
   "source": [
    "# Direct Method\n",
    "syd = Flatmates('Syd', 25)"
   ]
  }
 ],
 "metadata": {
  "kernelspec": {
   "display_name": "Python 3.11.5 ('base')",
   "language": "python",
   "name": "python3"
  },
  "language_info": {
   "name": "python",
   "version": "3.11.5"
  },
  "orig_nbformat": 4,
  "vscode": {
   "interpreter": {
    "hash": "3067ead486e059ec00ffe7555bdb889e6e264a24dc711bf108106cc7baee8d5d"
   }
  }
 },
 "nbformat": 4,
 "nbformat_minor": 2
}
