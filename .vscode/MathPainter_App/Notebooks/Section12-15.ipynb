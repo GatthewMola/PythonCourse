{
 "cells": [
  {
   "cell_type": "markdown",
   "metadata": {},
   "source": [
    "    67. Preview the Math Painter App\n",
    "\n",
    "Ardit will be previewing this app for us but won't be showing us any code, we will be coding this app ourselves. However, we will be shown how to create images within Python which will help us generate the code for the app.\n",
    "\n",
    "I've written down additional app notes in the design.txt document."
   ]
  },
  {
   "cell_type": "markdown",
   "metadata": {},
   "source": [
    "    68. How Python Handles Images\n",
    "\n",
    "Images are created of pixels and their cooresponding colors. In Python, we create matrixes of numbers, which are converted into images (made up of pixels and their colors).\n",
    "\n",
    "Pixel colors are determined based on an RGB spectrum scale. The number intensity of red, green, and blue scales are complied into one single number which determines the color of that pixel.\n",
    "\n",
    "This matrix of individual RGB values and their corresponding complied color value for each pixel can be described in a list or, more commonly, as a num.py rate. Num.py rates are more efficient than a list. Num.py rates capture the indvidual lists of pixel row values and saves it to a library like Pillow or OpenCV so that it can then be recalled in the code."
   ]
  },
  {
   "cell_type": "markdown",
   "metadata": {},
   "source": [
    "    69. Creating an Image out of Nothing\n",
    "\n",
    "To create images, we will need to download \"numpy\" (num-py) and \"Pillow\" (installed to base Python interpreter)."
   ]
  },
  {
   "cell_type": "code",
   "execution_count": null,
   "metadata": {},
   "outputs": [],
   "source": [
    "import numpy as np"
   ]
  },
  {
   "cell_type": "markdown",
   "metadata": {},
   "source": [
    "Most programmings will use the alias \"np\" to refer to numpy in their code as it is easier to type."
   ]
  },
  {
   "cell_type": "code",
   "execution_count": null,
   "metadata": {},
   "outputs": [],
   "source": [
    "from PIL import Image"
   ]
  },
  {
   "cell_type": "markdown",
   "metadata": {},
   "source": [
    "Code for creating an image using these tools can be found in the \"array_to_numpy.py\" file."
   ]
  },
  {
   "cell_type": "markdown",
   "metadata": {},
   "source": [
    "    70. Drawing Shapes in the Image\n",
    "\n",
    "Look for codes with multiple comments in the \"array_to_numpy.py\" file."
   ]
  },
  {
   "cell_type": "markdown",
   "metadata": {},
   "source": [
    "    71. Planning the App\n",
    "\n",
    "Ardit explains the \"design.txt\" file that is included in the app file resources. I've added the necessary print statements to the file as well."
   ]
  }
 ],
 "metadata": {
  "kernelspec": {
   "display_name": "Python 3.11.6 64-bit",
   "language": "python",
   "name": "python3"
  },
  "language_info": {
   "name": "python",
   "version": "3.11.6"
  },
  "orig_nbformat": 4,
  "vscode": {
   "interpreter": {
    "hash": "aee8b7b246df8f9039afb4144a1f6fd8d2ca17a180786b69acc140d282b71a49"
   }
  }
 },
 "nbformat": 4,
 "nbformat_minor": 2
}
