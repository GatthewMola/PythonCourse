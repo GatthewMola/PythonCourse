{
 "cells": [
  {
   "cell_type": "markdown",
   "metadata": {},
   "source": [
    "    67. Preview the Math Painter App\n",
    "\n",
    "Ardit will be previewing this app for us but won't be showing us any code, we will be coding this app ourselves. However, we will be shown how to create images within Python which will help us generate the code for the app.\n",
    "\n",
    "I've written down additional app notes in the design.txt document."
   ]
  },
  {
   "cell_type": "markdown",
   "metadata": {},
   "source": [
    "    68. How Python Handles Images\n",
    "\n",
    "Images are created of pixels and their cooresponding colors. In Python, we create matrixes of numbers, which are converted into images (made up of pixels and their colors).\n",
    "\n",
    "Pixel colors are determined based on an RGB spectrum scale. The number intensity of red, green, and blue scales are complied into one single number which determines the color of that pixel.\n",
    "\n",
    "This matrix of individual RGB values and their corresponding complied color value for each pixel can be described in a list or, more commonly, as a num.py rate. Num.py rates are more efficient than a list. Num.py rates capture the indvidual lists of pixel row values and saves it to a library like Pillow or OpenCV so that it can then be recalled in the code."
   ]
  },
  {
   "cell_type": "markdown",
   "metadata": {},
   "source": [
    "    69. Creating an Image out of Nothing\n",
    "\n",
    "To create images, we will need to download \"numpy\" (num-py) and \"Pillow\" (installed to base Python interpreter)."
   ]
  },
  {
   "cell_type": "code",
   "execution_count": null,
   "metadata": {},
   "outputs": [],
   "source": [
    "import numpy as np"
   ]
  },
  {
   "cell_type": "markdown",
   "metadata": {},
   "source": [
    "Most programmings will use the alias \"np\" to refer to numpy in their code as it is easier to type."
   ]
  },
  {
   "cell_type": "code",
   "execution_count": null,
   "metadata": {},
   "outputs": [],
   "source": [
    "from PIL import Image"
   ]
  },
  {
   "cell_type": "markdown",
   "metadata": {},
   "source": [
    "Code for creating an image using these tools can be found in the \"array_to_numpy.py\" file."
   ]
  },
  {
   "cell_type": "markdown",
   "metadata": {},
   "source": [
    "    70. Drawing Shapes in the Image\n",
    "\n",
    "Look for codes with multiple comments in the \"array_to_numpy.py\" file."
   ]
  },
  {
   "cell_type": "markdown",
   "metadata": {},
   "source": [
    "    71. Planning the App\n",
    "\n",
    "Ardit explains the \"design.txt\" file that is included in the app file resources. I've added the necessary print statements to the file as well."
   ]
  },
  {
   "cell_type": "markdown",
   "metadata": {},
   "source": [
    "    73. Implementing the Methods\n",
    "\n",
    "Ardit shows us how he created the classes, method, and basic framework of the app. Fairly simple, just remember to pay a lot of attention to the array_to_numpy file and accompanying lecture as that will show you how do put together the methods here."
   ]
  },
  {
   "cell_type": "markdown",
   "metadata": {},
   "source": [
    "    74. Building the CLI Interface\n",
    "\n",
    "I tried putting together the interface solely on my own but ran into some struggles early on. As I'm only just learning about Python image concepts and the numpy system, this app is pretty difficult. However, below are some tips I learned while trying to work through the interface with as little help from Ardit as possible."
   ]
  },
  {
   "cell_type": "markdown",
   "metadata": {},
   "source": [
    "__Tip 1:__\n",
    "\n",
    "Understanding the distinction between parentheses (__()__), brackets (__[]__), and curly braces (__{}__)."
   ]
  },
  {
   "cell_type": "code",
   "execution_count": 1,
   "metadata": {},
   "outputs": [
    {
     "name": "stdout",
     "output_type": "stream",
     "text": [
      "[1, 2, 3]\n"
     ]
    }
   ],
   "source": [
    "# Square brackets are \"lists\", lists are mutable, meaning you can change its contents.\n",
    "x = [1,2]\n",
    "x.append(3)\n",
    "print(x)"
   ]
  },
  {
   "cell_type": "code",
   "execution_count": 2,
   "metadata": {},
   "outputs": [
    {
     "ename": "AttributeError",
     "evalue": "'tuple' object has no attribute 'append'",
     "output_type": "error",
     "traceback": [
      "\u001b[0;31m---------------------------------------------------------------------------\u001b[0m",
      "\u001b[0;31mAttributeError\u001b[0m                            Traceback (most recent call last)",
      "Cell \u001b[0;32mIn[2], line 3\u001b[0m\n\u001b[1;32m      1\u001b[0m \u001b[39m# Parantheses are \"tuples\", tuples are not mutable.\u001b[39;00m\n\u001b[1;32m      2\u001b[0m x \u001b[39m=\u001b[39m (\u001b[39m1\u001b[39m,\u001b[39m2\u001b[39m)\n\u001b[0;32m----> 3\u001b[0m x\u001b[39m.\u001b[39;49mappend(\u001b[39m3\u001b[39m)\n",
      "\u001b[0;31mAttributeError\u001b[0m: 'tuple' object has no attribute 'append'"
     ]
    }
   ],
   "source": [
    "# Parantheses are \"tuples\", tuples are not mutable.\n",
    "x = (1,2)\n",
    "x.append(3)"
   ]
  },
  {
   "cell_type": "code",
   "execution_count": 3,
   "metadata": {},
   "outputs": [
    {
     "name": "stdout",
     "output_type": "stream",
     "text": [
      "{(1, 2): 3}\n"
     ]
    },
    {
     "ename": "TypeError",
     "evalue": "unhashable type: 'list'",
     "output_type": "error",
     "traceback": [
      "\u001b[0;31m---------------------------------------------------------------------------\u001b[0m",
      "\u001b[0;31mTypeError\u001b[0m                                 Traceback (most recent call last)",
      "Cell \u001b[0;32mIn[3], line 7\u001b[0m\n\u001b[1;32m      5\u001b[0m z[x] \u001b[39m=\u001b[39m \u001b[39m3\u001b[39m\n\u001b[1;32m      6\u001b[0m \u001b[39mprint\u001b[39m(z)\n\u001b[0;32m----> 7\u001b[0m z[y] \u001b[39m=\u001b[39m \u001b[39m4\u001b[39m\n",
      "\u001b[0;31mTypeError\u001b[0m: unhashable type: 'list'"
     ]
    }
   ],
   "source": [
    "# Tuples are also \"hashable\", meaning that you can use it as a key to a dictionary, among other things.\n",
    "x = (1,2)\n",
    "y = [1,2]\n",
    "z = {}\n",
    "z[x] = 3\n",
    "print(z)\n",
    "z[y] = 4"
   ]
  },
  {
   "cell_type": "markdown",
   "metadata": {},
   "source": [
    "A dictionary is a data structure that maps one value to another - kind of like how an english dictionary maps a word to a definition."
   ]
  },
  {
   "cell_type": "code",
   "execution_count": null,
   "metadata": {},
   "outputs": [],
   "source": [
    "# Example of a dictionary instance.\n",
    "# In Python, curly braces are used to hold dictionary definitions.\n",
    "dict = {\n",
    "    \"a\" : \"apple\",\n",
    "    \"b\" : \"banana\",\n",
    "}"
   ]
  },
  {
   "cell_type": "code",
   "execution_count": 4,
   "metadata": {},
   "outputs": [
    {
     "name": "stdout",
     "output_type": "stream",
     "text": [
      "(1, 2, 3)\n"
     ]
    }
   ],
   "source": [
    "# While tuples are not mutable, they can be added together.\n",
    "x = (1,2)\n",
    "x += (3,)\n",
    "print(x)"
   ]
  },
  {
   "cell_type": "markdown",
   "metadata": {},
   "source": [
    "In the above example, a *new* tuple is constructed by adding the two tuples as arguments. The original tuple is not modified.\n",
    "\n",
    "    Important to Note:\n",
    "\n",
    "Tuples will be defined as integers if a comma is not contained within the parentheses, even if there is only a single value."
   ]
  },
  {
   "cell_type": "code",
   "execution_count": null,
   "metadata": {},
   "outputs": [],
   "source": [
    "lst=[1]\n",
    "print lst               // prints [1]\n",
    "print type(lst)         // prints <type 'list'>\n",
    "\n",
    "notATuple=(1)\n",
    "print notATuple         // prints 1\n",
    "print type(notATuple)   // prints <type 'int'>\n",
    "\n",
    "Tuple=(1,)\n",
    "print Tuple             // prints (1,)  \n",
    "print type(Tuple)       // prints <type 'tuple'>"
   ]
  }
 ],
 "metadata": {
  "kernelspec": {
   "display_name": "Python 3.11.6 64-bit",
   "language": "python",
   "name": "python3"
  },
  "language_info": {
   "codemirror_mode": {
    "name": "ipython",
    "version": 3
   },
   "file_extension": ".py",
   "mimetype": "text/x-python",
   "name": "python",
   "nbconvert_exporter": "python",
   "pygments_lexer": "ipython3",
   "version": "3.11.6"
  },
  "orig_nbformat": 4,
  "vscode": {
   "interpreter": {
    "hash": "aee8b7b246df8f9039afb4144a1f6fd8d2ca17a180786b69acc140d282b71a49"
   }
  }
 },
 "nbformat": 4,
 "nbformat_minor": 2
}
